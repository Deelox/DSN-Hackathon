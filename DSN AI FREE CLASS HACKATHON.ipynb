{
 "cells": [
  {
   "cell_type": "code",
   "execution_count": 1,
   "id": "58e612f9",
   "metadata": {},
   "outputs": [],
   "source": [
    "#IMPORTING THE IMPORTANT LIBRARIES"
   ]
  },
  {
   "cell_type": "code",
   "execution_count": 2,
   "id": "921e507f",
   "metadata": {},
   "outputs": [],
   "source": [
    "#IMPORTING THE NECESSARY LIBRARIES\n",
    "import numpy as np\n",
    "import pandas as pd\n",
    "import matplotlib.pyplot as plt\n",
    "import seaborn as sns\n",
    "%matplotlib inline\n",
    "sns.set_style('darkgrid')"
   ]
  },
  {
   "cell_type": "code",
   "execution_count": 3,
   "id": "8f93a9e2",
   "metadata": {},
   "outputs": [],
   "source": [
    "# Reading both the Test and Train Dataset"
   ]
  },
  {
   "cell_type": "code",
   "execution_count": 4,
   "id": "2a50954f",
   "metadata": {},
   "outputs": [
    {
     "data": {
      "text/html": [
       "<div>\n",
       "<style scoped>\n",
       "    .dataframe tbody tr th:only-of-type {\n",
       "        vertical-align: middle;\n",
       "    }\n",
       "\n",
       "    .dataframe tbody tr th {\n",
       "        vertical-align: top;\n",
       "    }\n",
       "\n",
       "    .dataframe thead th {\n",
       "        text-align: right;\n",
       "    }\n",
       "</style>\n",
       "<table border=\"1\" class=\"dataframe\">\n",
       "  <thead>\n",
       "    <tr style=\"text-align: right;\">\n",
       "      <th></th>\n",
       "      <th>VehicleID</th>\n",
       "      <th>Location</th>\n",
       "      <th>Maker</th>\n",
       "      <th>Model</th>\n",
       "      <th>Year</th>\n",
       "      <th>Colour</th>\n",
       "      <th>Amount (Million Naira)</th>\n",
       "      <th>Type</th>\n",
       "      <th>Distance</th>\n",
       "    </tr>\n",
       "  </thead>\n",
       "  <tbody>\n",
       "    <tr>\n",
       "      <th>0</th>\n",
       "      <td>VHL12546</td>\n",
       "      <td>Abuja</td>\n",
       "      <td>Honda</td>\n",
       "      <td>Accord Coupe EX V-6</td>\n",
       "      <td>2,011</td>\n",
       "      <td>Silver</td>\n",
       "      <td>2.2</td>\n",
       "      <td>Nigerian Used</td>\n",
       "      <td>NaN</td>\n",
       "    </tr>\n",
       "    <tr>\n",
       "      <th>1</th>\n",
       "      <td>VHL18827</td>\n",
       "      <td>Ibadan</td>\n",
       "      <td>Hyundai</td>\n",
       "      <td>Sonata</td>\n",
       "      <td>2,012</td>\n",
       "      <td>Silver</td>\n",
       "      <td>3.5</td>\n",
       "      <td>Nigerian Used</td>\n",
       "      <td>125,000</td>\n",
       "    </tr>\n",
       "    <tr>\n",
       "      <th>2</th>\n",
       "      <td>VHL19499</td>\n",
       "      <td>Lagos</td>\n",
       "      <td>Lexus</td>\n",
       "      <td>RX 350</td>\n",
       "      <td>2,010</td>\n",
       "      <td>Red</td>\n",
       "      <td>9.2</td>\n",
       "      <td>Foreign Used</td>\n",
       "      <td>110,852</td>\n",
       "    </tr>\n",
       "    <tr>\n",
       "      <th>3</th>\n",
       "      <td>VHL17991</td>\n",
       "      <td>Abuja</td>\n",
       "      <td>Mercedes-Benz</td>\n",
       "      <td>GLE-Class</td>\n",
       "      <td>2,017</td>\n",
       "      <td>Blue</td>\n",
       "      <td>22.8</td>\n",
       "      <td>Foreign Used</td>\n",
       "      <td>30,000</td>\n",
       "    </tr>\n",
       "    <tr>\n",
       "      <th>4</th>\n",
       "      <td>VHL12170</td>\n",
       "      <td>Ibadan</td>\n",
       "      <td>Toyota</td>\n",
       "      <td>Highlander</td>\n",
       "      <td>2,002</td>\n",
       "      <td>Red</td>\n",
       "      <td>2.6</td>\n",
       "      <td>Nigerian Used</td>\n",
       "      <td>125,206</td>\n",
       "    </tr>\n",
       "  </tbody>\n",
       "</table>\n",
       "</div>"
      ],
      "text/plain": [
       "  VehicleID Location          Maker                Model   Year  Colour  \\\n",
       "0  VHL12546    Abuja          Honda  Accord Coupe EX V-6  2,011  Silver   \n",
       "1  VHL18827   Ibadan        Hyundai               Sonata  2,012  Silver   \n",
       "2  VHL19499    Lagos          Lexus               RX 350  2,010     Red   \n",
       "3  VHL17991    Abuja  Mercedes-Benz            GLE-Class  2,017    Blue   \n",
       "4  VHL12170   Ibadan         Toyota           Highlander  2,002     Red   \n",
       "\n",
       "   Amount (Million Naira)           Type Distance  \n",
       "0                     2.2  Nigerian Used      NaN  \n",
       "1                     3.5  Nigerian Used  125,000  \n",
       "2                     9.2   Foreign Used  110,852  \n",
       "3                    22.8   Foreign Used   30,000  \n",
       "4                     2.6  Nigerian Used  125,206  "
      ]
     },
     "execution_count": 4,
     "metadata": {},
     "output_type": "execute_result"
    },
    {
     "data": {
      "text/html": [
       "<div>\n",
       "<style scoped>\n",
       "    .dataframe tbody tr th:only-of-type {\n",
       "        vertical-align: middle;\n",
       "    }\n",
       "\n",
       "    .dataframe tbody tr th {\n",
       "        vertical-align: top;\n",
       "    }\n",
       "\n",
       "    .dataframe thead th {\n",
       "        text-align: right;\n",
       "    }\n",
       "</style>\n",
       "<table border=\"1\" class=\"dataframe\">\n",
       "  <thead>\n",
       "    <tr style=\"text-align: right;\">\n",
       "      <th></th>\n",
       "      <th>VehicleID</th>\n",
       "      <th>Location</th>\n",
       "      <th>Maker</th>\n",
       "      <th>Model</th>\n",
       "      <th>Year</th>\n",
       "      <th>Colour</th>\n",
       "      <th>Amount (Million Naira)</th>\n",
       "      <th>Type</th>\n",
       "      <th>Distance</th>\n",
       "    </tr>\n",
       "  </thead>\n",
       "  <tbody>\n",
       "    <tr>\n",
       "      <th>0</th>\n",
       "      <td>VHL12546</td>\n",
       "      <td>Abuja</td>\n",
       "      <td>Honda</td>\n",
       "      <td>Accord Coupe EX V-6</td>\n",
       "      <td>2,011</td>\n",
       "      <td>Silver</td>\n",
       "      <td>2.2</td>\n",
       "      <td>Nigerian Used</td>\n",
       "      <td>NaN</td>\n",
       "    </tr>\n",
       "    <tr>\n",
       "      <th>1</th>\n",
       "      <td>VHL18827</td>\n",
       "      <td>Ibadan</td>\n",
       "      <td>Hyundai</td>\n",
       "      <td>Sonata</td>\n",
       "      <td>2,012</td>\n",
       "      <td>Silver</td>\n",
       "      <td>3.5</td>\n",
       "      <td>Nigerian Used</td>\n",
       "      <td>125,000</td>\n",
       "    </tr>\n",
       "    <tr>\n",
       "      <th>2</th>\n",
       "      <td>VHL19499</td>\n",
       "      <td>Lagos</td>\n",
       "      <td>Lexus</td>\n",
       "      <td>RX 350</td>\n",
       "      <td>2,010</td>\n",
       "      <td>Red</td>\n",
       "      <td>9.2</td>\n",
       "      <td>Foreign Used</td>\n",
       "      <td>110,852</td>\n",
       "    </tr>\n",
       "    <tr>\n",
       "      <th>3</th>\n",
       "      <td>VHL17991</td>\n",
       "      <td>Abuja</td>\n",
       "      <td>Mercedes-Benz</td>\n",
       "      <td>GLE-Class</td>\n",
       "      <td>2,017</td>\n",
       "      <td>Blue</td>\n",
       "      <td>22.8</td>\n",
       "      <td>Foreign Used</td>\n",
       "      <td>30,000</td>\n",
       "    </tr>\n",
       "    <tr>\n",
       "      <th>4</th>\n",
       "      <td>VHL12170</td>\n",
       "      <td>Ibadan</td>\n",
       "      <td>Toyota</td>\n",
       "      <td>Highlander</td>\n",
       "      <td>2,002</td>\n",
       "      <td>Red</td>\n",
       "      <td>2.6</td>\n",
       "      <td>Nigerian Used</td>\n",
       "      <td>125,206</td>\n",
       "    </tr>\n",
       "  </tbody>\n",
       "</table>\n",
       "</div>"
      ],
      "text/plain": [
       "  VehicleID Location          Maker                Model   Year  Colour  \\\n",
       "0  VHL12546    Abuja          Honda  Accord Coupe EX V-6  2,011  Silver   \n",
       "1  VHL18827   Ibadan        Hyundai               Sonata  2,012  Silver   \n",
       "2  VHL19499    Lagos          Lexus               RX 350  2,010     Red   \n",
       "3  VHL17991    Abuja  Mercedes-Benz            GLE-Class  2,017    Blue   \n",
       "4  VHL12170   Ibadan         Toyota           Highlander  2,002     Red   \n",
       "\n",
       "   Amount (Million Naira)           Type Distance  \n",
       "0                     2.2  Nigerian Used      NaN  \n",
       "1                     3.5  Nigerian Used  125,000  \n",
       "2                     9.2   Foreign Used  110,852  \n",
       "3                    22.8   Foreign Used   30,000  \n",
       "4                     2.6  Nigerian Used  125,206  "
      ]
     },
     "execution_count": 4,
     "metadata": {},
     "output_type": "execute_result"
    }
   ],
   "source": [
    "train = pd.read_csv(r'C:\\\\Users\\\\MY PC\\\\Downloads\\\\Trains.csv')\n",
    "train.head()"
   ]
  },
  {
   "cell_type": "code",
   "execution_count": 5,
   "id": "bf253482",
   "metadata": {},
   "outputs": [
    {
     "data": {
      "text/html": [
       "<div>\n",
       "<style scoped>\n",
       "    .dataframe tbody tr th:only-of-type {\n",
       "        vertical-align: middle;\n",
       "    }\n",
       "\n",
       "    .dataframe tbody tr th {\n",
       "        vertical-align: top;\n",
       "    }\n",
       "\n",
       "    .dataframe thead th {\n",
       "        text-align: right;\n",
       "    }\n",
       "</style>\n",
       "<table border=\"1\" class=\"dataframe\">\n",
       "  <thead>\n",
       "    <tr style=\"text-align: right;\">\n",
       "      <th></th>\n",
       "      <th>VehicleID</th>\n",
       "      <th>Location</th>\n",
       "      <th>Maker</th>\n",
       "      <th>Model</th>\n",
       "      <th>Year</th>\n",
       "      <th>Colour</th>\n",
       "      <th>Type</th>\n",
       "      <th>Distance</th>\n",
       "    </tr>\n",
       "  </thead>\n",
       "  <tbody>\n",
       "    <tr>\n",
       "      <th>0</th>\n",
       "      <td>VHL18518</td>\n",
       "      <td>Abuja</td>\n",
       "      <td>BMW</td>\n",
       "      <td>323i</td>\n",
       "      <td>2,008</td>\n",
       "      <td>White</td>\n",
       "      <td>Foreign Used</td>\n",
       "      <td>30524.0</td>\n",
       "    </tr>\n",
       "    <tr>\n",
       "      <th>1</th>\n",
       "      <td>VHL17149</td>\n",
       "      <td>Lagos</td>\n",
       "      <td>Toyota</td>\n",
       "      <td>Camry</td>\n",
       "      <td>2,013</td>\n",
       "      <td>White</td>\n",
       "      <td>Foreign Used</td>\n",
       "      <td>NaN</td>\n",
       "    </tr>\n",
       "    <tr>\n",
       "      <th>2</th>\n",
       "      <td>VHL10927</td>\n",
       "      <td>Lagos</td>\n",
       "      <td>Toyota</td>\n",
       "      <td>Highlander Limited V6</td>\n",
       "      <td>2,005</td>\n",
       "      <td>Gold</td>\n",
       "      <td>Foreign Used</td>\n",
       "      <td>NaN</td>\n",
       "    </tr>\n",
       "    <tr>\n",
       "      <th>3</th>\n",
       "      <td>VHL12909</td>\n",
       "      <td>Lagos</td>\n",
       "      <td>Toyota</td>\n",
       "      <td>Camry</td>\n",
       "      <td>2,011</td>\n",
       "      <td>Gray</td>\n",
       "      <td>Foreign Used</td>\n",
       "      <td>166839.0</td>\n",
       "    </tr>\n",
       "    <tr>\n",
       "      <th>4</th>\n",
       "      <td>VHL12348</td>\n",
       "      <td>Lagos</td>\n",
       "      <td>Lexus</td>\n",
       "      <td>ES 350 FWD</td>\n",
       "      <td>2,013</td>\n",
       "      <td>Red</td>\n",
       "      <td>Foreign Used</td>\n",
       "      <td>88862.0</td>\n",
       "    </tr>\n",
       "  </tbody>\n",
       "</table>\n",
       "</div>"
      ],
      "text/plain": [
       "  VehicleID Location   Maker                  Model   Year Colour  \\\n",
       "0  VHL18518    Abuja     BMW                   323i  2,008  White   \n",
       "1  VHL17149    Lagos  Toyota                  Camry  2,013  White   \n",
       "2  VHL10927    Lagos  Toyota  Highlander Limited V6  2,005   Gold   \n",
       "3  VHL12909    Lagos  Toyota                  Camry  2,011   Gray   \n",
       "4  VHL12348    Lagos   Lexus             ES 350 FWD  2,013    Red   \n",
       "\n",
       "           Type  Distance  \n",
       "0  Foreign Used   30524.0  \n",
       "1  Foreign Used       NaN  \n",
       "2  Foreign Used       NaN  \n",
       "3  Foreign Used  166839.0  \n",
       "4  Foreign Used   88862.0  "
      ]
     },
     "execution_count": 5,
     "metadata": {},
     "output_type": "execute_result"
    },
    {
     "data": {
      "text/html": [
       "<div>\n",
       "<style scoped>\n",
       "    .dataframe tbody tr th:only-of-type {\n",
       "        vertical-align: middle;\n",
       "    }\n",
       "\n",
       "    .dataframe tbody tr th {\n",
       "        vertical-align: top;\n",
       "    }\n",
       "\n",
       "    .dataframe thead th {\n",
       "        text-align: right;\n",
       "    }\n",
       "</style>\n",
       "<table border=\"1\" class=\"dataframe\">\n",
       "  <thead>\n",
       "    <tr style=\"text-align: right;\">\n",
       "      <th></th>\n",
       "      <th>VehicleID</th>\n",
       "      <th>Location</th>\n",
       "      <th>Maker</th>\n",
       "      <th>Model</th>\n",
       "      <th>Year</th>\n",
       "      <th>Colour</th>\n",
       "      <th>Type</th>\n",
       "      <th>Distance</th>\n",
       "    </tr>\n",
       "  </thead>\n",
       "  <tbody>\n",
       "    <tr>\n",
       "      <th>0</th>\n",
       "      <td>VHL18518</td>\n",
       "      <td>Abuja</td>\n",
       "      <td>BMW</td>\n",
       "      <td>323i</td>\n",
       "      <td>2,008</td>\n",
       "      <td>White</td>\n",
       "      <td>Foreign Used</td>\n",
       "      <td>30524.0</td>\n",
       "    </tr>\n",
       "    <tr>\n",
       "      <th>1</th>\n",
       "      <td>VHL17149</td>\n",
       "      <td>Lagos</td>\n",
       "      <td>Toyota</td>\n",
       "      <td>Camry</td>\n",
       "      <td>2,013</td>\n",
       "      <td>White</td>\n",
       "      <td>Foreign Used</td>\n",
       "      <td>NaN</td>\n",
       "    </tr>\n",
       "    <tr>\n",
       "      <th>2</th>\n",
       "      <td>VHL10927</td>\n",
       "      <td>Lagos</td>\n",
       "      <td>Toyota</td>\n",
       "      <td>Highlander Limited V6</td>\n",
       "      <td>2,005</td>\n",
       "      <td>Gold</td>\n",
       "      <td>Foreign Used</td>\n",
       "      <td>NaN</td>\n",
       "    </tr>\n",
       "    <tr>\n",
       "      <th>3</th>\n",
       "      <td>VHL12909</td>\n",
       "      <td>Lagos</td>\n",
       "      <td>Toyota</td>\n",
       "      <td>Camry</td>\n",
       "      <td>2,011</td>\n",
       "      <td>Gray</td>\n",
       "      <td>Foreign Used</td>\n",
       "      <td>166839.0</td>\n",
       "    </tr>\n",
       "    <tr>\n",
       "      <th>4</th>\n",
       "      <td>VHL12348</td>\n",
       "      <td>Lagos</td>\n",
       "      <td>Lexus</td>\n",
       "      <td>ES 350 FWD</td>\n",
       "      <td>2,013</td>\n",
       "      <td>Red</td>\n",
       "      <td>Foreign Used</td>\n",
       "      <td>88862.0</td>\n",
       "    </tr>\n",
       "  </tbody>\n",
       "</table>\n",
       "</div>"
      ],
      "text/plain": [
       "  VehicleID Location   Maker                  Model   Year Colour  \\\n",
       "0  VHL18518    Abuja     BMW                   323i  2,008  White   \n",
       "1  VHL17149    Lagos  Toyota                  Camry  2,013  White   \n",
       "2  VHL10927    Lagos  Toyota  Highlander Limited V6  2,005   Gold   \n",
       "3  VHL12909    Lagos  Toyota                  Camry  2,011   Gray   \n",
       "4  VHL12348    Lagos   Lexus             ES 350 FWD  2,013    Red   \n",
       "\n",
       "           Type  Distance  \n",
       "0  Foreign Used   30524.0  \n",
       "1  Foreign Used       NaN  \n",
       "2  Foreign Used       NaN  \n",
       "3  Foreign Used  166839.0  \n",
       "4  Foreign Used   88862.0  "
      ]
     },
     "execution_count": 5,
     "metadata": {},
     "output_type": "execute_result"
    }
   ],
   "source": [
    "test = pd.read_csv(r'C:\\\\Users\\\\MY PC\\\\Downloads\\\\Tests.csv')\n",
    "test.head()"
   ]
  },
  {
   "cell_type": "code",
   "execution_count": 6,
   "id": "07b67036",
   "metadata": {},
   "outputs": [],
   "source": [
    "#Getting the information about the dataset"
   ]
  },
  {
   "cell_type": "code",
   "execution_count": 7,
   "id": "8826ef14",
   "metadata": {},
   "outputs": [
    {
     "name": "stdout",
     "output_type": "stream",
     "text": [
      "<class 'pandas.core.frame.DataFrame'>\n",
      "RangeIndex: 7205 entries, 0 to 7204\n",
      "Data columns (total 9 columns):\n",
      " #   Column                  Non-Null Count  Dtype  \n",
      "---  ------                  --------------  -----  \n",
      " 0   VehicleID               7205 non-null   object \n",
      " 1   Location                7205 non-null   object \n",
      " 2   Maker                   7205 non-null   object \n",
      " 3   Model                   7205 non-null   object \n",
      " 4   Year                    7184 non-null   object \n",
      " 5   Colour                  7205 non-null   object \n",
      " 6   Amount (Million Naira)  7188 non-null   float64\n",
      " 7   Type                    7008 non-null   object \n",
      " 8   Distance                4845 non-null   object \n",
      "dtypes: float64(1), object(8)\n",
      "memory usage: 506.7+ KB\n",
      "<class 'pandas.core.frame.DataFrame'>\n",
      "RangeIndex: 7205 entries, 0 to 7204\n",
      "Data columns (total 9 columns):\n",
      " #   Column                  Non-Null Count  Dtype  \n",
      "---  ------                  --------------  -----  \n",
      " 0   VehicleID               7205 non-null   object \n",
      " 1   Location                7205 non-null   object \n",
      " 2   Maker                   7205 non-null   object \n",
      " 3   Model                   7205 non-null   object \n",
      " 4   Year                    7184 non-null   object \n",
      " 5   Colour                  7205 non-null   object \n",
      " 6   Amount (Million Naira)  7188 non-null   float64\n",
      " 7   Type                    7008 non-null   object \n",
      " 8   Distance                4845 non-null   object \n",
      "dtypes: float64(1), object(8)\n",
      "memory usage: 506.7+ KB\n"
     ]
    }
   ],
   "source": [
    "train.info()"
   ]
  },
  {
   "cell_type": "code",
   "execution_count": 8,
   "id": "81b53394",
   "metadata": {},
   "outputs": [
    {
     "name": "stdout",
     "output_type": "stream",
     "text": [
      "<class 'pandas.core.frame.DataFrame'>\n",
      "RangeIndex: 2061 entries, 0 to 2060\n",
      "Data columns (total 8 columns):\n",
      " #   Column     Non-Null Count  Dtype  \n",
      "---  ------     --------------  -----  \n",
      " 0   VehicleID  2061 non-null   object \n",
      " 1   Location   2061 non-null   object \n",
      " 2   Maker      2061 non-null   object \n",
      " 3   Model      2061 non-null   object \n",
      " 4   Year       2059 non-null   object \n",
      " 5   Colour     2061 non-null   object \n",
      " 6   Type       2007 non-null   object \n",
      " 7   Distance   1385 non-null   float64\n",
      "dtypes: float64(1), object(7)\n",
      "memory usage: 128.9+ KB\n",
      "<class 'pandas.core.frame.DataFrame'>\n",
      "RangeIndex: 2061 entries, 0 to 2060\n",
      "Data columns (total 8 columns):\n",
      " #   Column     Non-Null Count  Dtype  \n",
      "---  ------     --------------  -----  \n",
      " 0   VehicleID  2061 non-null   object \n",
      " 1   Location   2061 non-null   object \n",
      " 2   Maker      2061 non-null   object \n",
      " 3   Model      2061 non-null   object \n",
      " 4   Year       2059 non-null   object \n",
      " 5   Colour     2061 non-null   object \n",
      " 6   Type       2007 non-null   object \n",
      " 7   Distance   1385 non-null   float64\n",
      "dtypes: float64(1), object(7)\n",
      "memory usage: 128.9+ KB\n"
     ]
    }
   ],
   "source": [
    "test.info()"
   ]
  },
  {
   "cell_type": "code",
   "execution_count": 9,
   "id": "a3bbf8aa",
   "metadata": {},
   "outputs": [],
   "source": [
    "#Data Processing"
   ]
  },
  {
   "cell_type": "code",
   "execution_count": 10,
   "id": "b58d53a6",
   "metadata": {},
   "outputs": [
    {
     "data": {
      "text/plain": [
       "VehicleID                    0\n",
       "Location                     0\n",
       "Maker                        0\n",
       "Model                        0\n",
       "Year                        21\n",
       "Colour                       0\n",
       "Amount (Million Naira)      17\n",
       "Type                       197\n",
       "Distance                  2360\n",
       "dtype: int64"
      ]
     },
     "execution_count": 10,
     "metadata": {},
     "output_type": "execute_result"
    },
    {
     "data": {
      "text/plain": [
       "VehicleID                    0\n",
       "Location                     0\n",
       "Maker                        0\n",
       "Model                        0\n",
       "Year                        21\n",
       "Colour                       0\n",
       "Amount (Million Naira)      17\n",
       "Type                       197\n",
       "Distance                  2360\n",
       "dtype: int64"
      ]
     },
     "execution_count": 10,
     "metadata": {},
     "output_type": "execute_result"
    }
   ],
   "source": [
    "train.isnull().sum()"
   ]
  },
  {
   "cell_type": "code",
   "execution_count": 11,
   "id": "9b4cd3d5",
   "metadata": {},
   "outputs": [
    {
     "data": {
      "text/html": [
       "<div>\n",
       "<style scoped>\n",
       "    .dataframe tbody tr th:only-of-type {\n",
       "        vertical-align: middle;\n",
       "    }\n",
       "\n",
       "    .dataframe tbody tr th {\n",
       "        vertical-align: top;\n",
       "    }\n",
       "\n",
       "    .dataframe thead th {\n",
       "        text-align: right;\n",
       "    }\n",
       "</style>\n",
       "<table border=\"1\" class=\"dataframe\">\n",
       "  <thead>\n",
       "    <tr style=\"text-align: right;\">\n",
       "      <th></th>\n",
       "      <th>VehicleID</th>\n",
       "      <th>Location</th>\n",
       "      <th>Maker</th>\n",
       "      <th>Model</th>\n",
       "      <th>Year</th>\n",
       "      <th>Colour</th>\n",
       "      <th>Amount (Million Naira)</th>\n",
       "      <th>Type</th>\n",
       "      <th>Distance</th>\n",
       "    </tr>\n",
       "  </thead>\n",
       "  <tbody>\n",
       "    <tr>\n",
       "      <th>0</th>\n",
       "      <td>VHL12546</td>\n",
       "      <td>Abuja</td>\n",
       "      <td>Honda</td>\n",
       "      <td>Accord Coupe EX V-6</td>\n",
       "      <td>2011</td>\n",
       "      <td>Silver</td>\n",
       "      <td>2.2</td>\n",
       "      <td>Nigerian Used</td>\n",
       "      <td>NaN</td>\n",
       "    </tr>\n",
       "    <tr>\n",
       "      <th>1</th>\n",
       "      <td>VHL18827</td>\n",
       "      <td>Ibadan</td>\n",
       "      <td>Hyundai</td>\n",
       "      <td>Sonata</td>\n",
       "      <td>2012</td>\n",
       "      <td>Silver</td>\n",
       "      <td>3.5</td>\n",
       "      <td>Nigerian Used</td>\n",
       "      <td>125,000</td>\n",
       "    </tr>\n",
       "    <tr>\n",
       "      <th>2</th>\n",
       "      <td>VHL19499</td>\n",
       "      <td>Lagos</td>\n",
       "      <td>Lexus</td>\n",
       "      <td>RX 350</td>\n",
       "      <td>2010</td>\n",
       "      <td>Red</td>\n",
       "      <td>9.2</td>\n",
       "      <td>Foreign Used</td>\n",
       "      <td>110,852</td>\n",
       "    </tr>\n",
       "    <tr>\n",
       "      <th>3</th>\n",
       "      <td>VHL17991</td>\n",
       "      <td>Abuja</td>\n",
       "      <td>Mercedes-Benz</td>\n",
       "      <td>GLE-Class</td>\n",
       "      <td>2017</td>\n",
       "      <td>Blue</td>\n",
       "      <td>22.8</td>\n",
       "      <td>Foreign Used</td>\n",
       "      <td>30,000</td>\n",
       "    </tr>\n",
       "    <tr>\n",
       "      <th>4</th>\n",
       "      <td>VHL12170</td>\n",
       "      <td>Ibadan</td>\n",
       "      <td>Toyota</td>\n",
       "      <td>Highlander</td>\n",
       "      <td>2002</td>\n",
       "      <td>Red</td>\n",
       "      <td>2.6</td>\n",
       "      <td>Nigerian Used</td>\n",
       "      <td>125,206</td>\n",
       "    </tr>\n",
       "  </tbody>\n",
       "</table>\n",
       "</div>"
      ],
      "text/plain": [
       "  VehicleID Location          Maker                Model  Year  Colour  \\\n",
       "0  VHL12546    Abuja          Honda  Accord Coupe EX V-6  2011  Silver   \n",
       "1  VHL18827   Ibadan        Hyundai               Sonata  2012  Silver   \n",
       "2  VHL19499    Lagos          Lexus               RX 350  2010     Red   \n",
       "3  VHL17991    Abuja  Mercedes-Benz            GLE-Class  2017    Blue   \n",
       "4  VHL12170   Ibadan         Toyota           Highlander  2002     Red   \n",
       "\n",
       "   Amount (Million Naira)           Type Distance  \n",
       "0                     2.2  Nigerian Used      NaN  \n",
       "1                     3.5  Nigerian Used  125,000  \n",
       "2                     9.2   Foreign Used  110,852  \n",
       "3                    22.8   Foreign Used   30,000  \n",
       "4                     2.6  Nigerian Used  125,206  "
      ]
     },
     "execution_count": 11,
     "metadata": {},
     "output_type": "execute_result"
    },
    {
     "data": {
      "text/html": [
       "<div>\n",
       "<style scoped>\n",
       "    .dataframe tbody tr th:only-of-type {\n",
       "        vertical-align: middle;\n",
       "    }\n",
       "\n",
       "    .dataframe tbody tr th {\n",
       "        vertical-align: top;\n",
       "    }\n",
       "\n",
       "    .dataframe thead th {\n",
       "        text-align: right;\n",
       "    }\n",
       "</style>\n",
       "<table border=\"1\" class=\"dataframe\">\n",
       "  <thead>\n",
       "    <tr style=\"text-align: right;\">\n",
       "      <th></th>\n",
       "      <th>VehicleID</th>\n",
       "      <th>Location</th>\n",
       "      <th>Maker</th>\n",
       "      <th>Model</th>\n",
       "      <th>Year</th>\n",
       "      <th>Colour</th>\n",
       "      <th>Amount (Million Naira)</th>\n",
       "      <th>Type</th>\n",
       "      <th>Distance</th>\n",
       "    </tr>\n",
       "  </thead>\n",
       "  <tbody>\n",
       "    <tr>\n",
       "      <th>0</th>\n",
       "      <td>VHL12546</td>\n",
       "      <td>Abuja</td>\n",
       "      <td>Honda</td>\n",
       "      <td>Accord Coupe EX V-6</td>\n",
       "      <td>2011</td>\n",
       "      <td>Silver</td>\n",
       "      <td>2.2</td>\n",
       "      <td>Nigerian Used</td>\n",
       "      <td>NaN</td>\n",
       "    </tr>\n",
       "    <tr>\n",
       "      <th>1</th>\n",
       "      <td>VHL18827</td>\n",
       "      <td>Ibadan</td>\n",
       "      <td>Hyundai</td>\n",
       "      <td>Sonata</td>\n",
       "      <td>2012</td>\n",
       "      <td>Silver</td>\n",
       "      <td>3.5</td>\n",
       "      <td>Nigerian Used</td>\n",
       "      <td>125,000</td>\n",
       "    </tr>\n",
       "    <tr>\n",
       "      <th>2</th>\n",
       "      <td>VHL19499</td>\n",
       "      <td>Lagos</td>\n",
       "      <td>Lexus</td>\n",
       "      <td>RX 350</td>\n",
       "      <td>2010</td>\n",
       "      <td>Red</td>\n",
       "      <td>9.2</td>\n",
       "      <td>Foreign Used</td>\n",
       "      <td>110,852</td>\n",
       "    </tr>\n",
       "    <tr>\n",
       "      <th>3</th>\n",
       "      <td>VHL17991</td>\n",
       "      <td>Abuja</td>\n",
       "      <td>Mercedes-Benz</td>\n",
       "      <td>GLE-Class</td>\n",
       "      <td>2017</td>\n",
       "      <td>Blue</td>\n",
       "      <td>22.8</td>\n",
       "      <td>Foreign Used</td>\n",
       "      <td>30,000</td>\n",
       "    </tr>\n",
       "    <tr>\n",
       "      <th>4</th>\n",
       "      <td>VHL12170</td>\n",
       "      <td>Ibadan</td>\n",
       "      <td>Toyota</td>\n",
       "      <td>Highlander</td>\n",
       "      <td>2002</td>\n",
       "      <td>Red</td>\n",
       "      <td>2.6</td>\n",
       "      <td>Nigerian Used</td>\n",
       "      <td>125,206</td>\n",
       "    </tr>\n",
       "  </tbody>\n",
       "</table>\n",
       "</div>"
      ],
      "text/plain": [
       "  VehicleID Location          Maker                Model  Year  Colour  \\\n",
       "0  VHL12546    Abuja          Honda  Accord Coupe EX V-6  2011  Silver   \n",
       "1  VHL18827   Ibadan        Hyundai               Sonata  2012  Silver   \n",
       "2  VHL19499    Lagos          Lexus               RX 350  2010     Red   \n",
       "3  VHL17991    Abuja  Mercedes-Benz            GLE-Class  2017    Blue   \n",
       "4  VHL12170   Ibadan         Toyota           Highlander  2002     Red   \n",
       "\n",
       "   Amount (Million Naira)           Type Distance  \n",
       "0                     2.2  Nigerian Used      NaN  \n",
       "1                     3.5  Nigerian Used  125,000  \n",
       "2                     9.2   Foreign Used  110,852  \n",
       "3                    22.8   Foreign Used   30,000  \n",
       "4                     2.6  Nigerian Used  125,206  "
      ]
     },
     "execution_count": 11,
     "metadata": {},
     "output_type": "execute_result"
    }
   ],
   "source": [
    "train['Year']=train['Year'].str.replace(',','')\n",
    "train.head()\n"
   ]
  },
  {
   "cell_type": "raw",
   "id": "234af8e5",
   "metadata": {},
   "source": []
  },
  {
   "cell_type": "code",
   "execution_count": 12,
   "id": "195be19f",
   "metadata": {},
   "outputs": [
    {
     "data": {
      "text/html": [
       "<div>\n",
       "<style scoped>\n",
       "    .dataframe tbody tr th:only-of-type {\n",
       "        vertical-align: middle;\n",
       "    }\n",
       "\n",
       "    .dataframe tbody tr th {\n",
       "        vertical-align: top;\n",
       "    }\n",
       "\n",
       "    .dataframe thead th {\n",
       "        text-align: right;\n",
       "    }\n",
       "</style>\n",
       "<table border=\"1\" class=\"dataframe\">\n",
       "  <thead>\n",
       "    <tr style=\"text-align: right;\">\n",
       "      <th></th>\n",
       "      <th>VehicleID</th>\n",
       "      <th>Location</th>\n",
       "      <th>Maker</th>\n",
       "      <th>Model</th>\n",
       "      <th>Year</th>\n",
       "      <th>Colour</th>\n",
       "      <th>Type</th>\n",
       "      <th>Distance</th>\n",
       "    </tr>\n",
       "  </thead>\n",
       "  <tbody>\n",
       "    <tr>\n",
       "      <th>0</th>\n",
       "      <td>VHL18518</td>\n",
       "      <td>Abuja</td>\n",
       "      <td>BMW</td>\n",
       "      <td>323i</td>\n",
       "      <td>2008</td>\n",
       "      <td>White</td>\n",
       "      <td>Foreign Used</td>\n",
       "      <td>30524.0</td>\n",
       "    </tr>\n",
       "    <tr>\n",
       "      <th>1</th>\n",
       "      <td>VHL17149</td>\n",
       "      <td>Lagos</td>\n",
       "      <td>Toyota</td>\n",
       "      <td>Camry</td>\n",
       "      <td>2013</td>\n",
       "      <td>White</td>\n",
       "      <td>Foreign Used</td>\n",
       "      <td>NaN</td>\n",
       "    </tr>\n",
       "    <tr>\n",
       "      <th>2</th>\n",
       "      <td>VHL10927</td>\n",
       "      <td>Lagos</td>\n",
       "      <td>Toyota</td>\n",
       "      <td>Highlander Limited V6</td>\n",
       "      <td>2005</td>\n",
       "      <td>Gold</td>\n",
       "      <td>Foreign Used</td>\n",
       "      <td>NaN</td>\n",
       "    </tr>\n",
       "    <tr>\n",
       "      <th>3</th>\n",
       "      <td>VHL12909</td>\n",
       "      <td>Lagos</td>\n",
       "      <td>Toyota</td>\n",
       "      <td>Camry</td>\n",
       "      <td>2011</td>\n",
       "      <td>Gray</td>\n",
       "      <td>Foreign Used</td>\n",
       "      <td>166839.0</td>\n",
       "    </tr>\n",
       "    <tr>\n",
       "      <th>4</th>\n",
       "      <td>VHL12348</td>\n",
       "      <td>Lagos</td>\n",
       "      <td>Lexus</td>\n",
       "      <td>ES 350 FWD</td>\n",
       "      <td>2013</td>\n",
       "      <td>Red</td>\n",
       "      <td>Foreign Used</td>\n",
       "      <td>88862.0</td>\n",
       "    </tr>\n",
       "  </tbody>\n",
       "</table>\n",
       "</div>"
      ],
      "text/plain": [
       "  VehicleID Location   Maker                  Model  Year Colour  \\\n",
       "0  VHL18518    Abuja     BMW                   323i  2008  White   \n",
       "1  VHL17149    Lagos  Toyota                  Camry  2013  White   \n",
       "2  VHL10927    Lagos  Toyota  Highlander Limited V6  2005   Gold   \n",
       "3  VHL12909    Lagos  Toyota                  Camry  2011   Gray   \n",
       "4  VHL12348    Lagos   Lexus             ES 350 FWD  2013    Red   \n",
       "\n",
       "           Type  Distance  \n",
       "0  Foreign Used   30524.0  \n",
       "1  Foreign Used       NaN  \n",
       "2  Foreign Used       NaN  \n",
       "3  Foreign Used  166839.0  \n",
       "4  Foreign Used   88862.0  "
      ]
     },
     "execution_count": 12,
     "metadata": {},
     "output_type": "execute_result"
    },
    {
     "data": {
      "text/html": [
       "<div>\n",
       "<style scoped>\n",
       "    .dataframe tbody tr th:only-of-type {\n",
       "        vertical-align: middle;\n",
       "    }\n",
       "\n",
       "    .dataframe tbody tr th {\n",
       "        vertical-align: top;\n",
       "    }\n",
       "\n",
       "    .dataframe thead th {\n",
       "        text-align: right;\n",
       "    }\n",
       "</style>\n",
       "<table border=\"1\" class=\"dataframe\">\n",
       "  <thead>\n",
       "    <tr style=\"text-align: right;\">\n",
       "      <th></th>\n",
       "      <th>VehicleID</th>\n",
       "      <th>Location</th>\n",
       "      <th>Maker</th>\n",
       "      <th>Model</th>\n",
       "      <th>Year</th>\n",
       "      <th>Colour</th>\n",
       "      <th>Type</th>\n",
       "      <th>Distance</th>\n",
       "    </tr>\n",
       "  </thead>\n",
       "  <tbody>\n",
       "    <tr>\n",
       "      <th>0</th>\n",
       "      <td>VHL18518</td>\n",
       "      <td>Abuja</td>\n",
       "      <td>BMW</td>\n",
       "      <td>323i</td>\n",
       "      <td>2008</td>\n",
       "      <td>White</td>\n",
       "      <td>Foreign Used</td>\n",
       "      <td>30524.0</td>\n",
       "    </tr>\n",
       "    <tr>\n",
       "      <th>1</th>\n",
       "      <td>VHL17149</td>\n",
       "      <td>Lagos</td>\n",
       "      <td>Toyota</td>\n",
       "      <td>Camry</td>\n",
       "      <td>2013</td>\n",
       "      <td>White</td>\n",
       "      <td>Foreign Used</td>\n",
       "      <td>NaN</td>\n",
       "    </tr>\n",
       "    <tr>\n",
       "      <th>2</th>\n",
       "      <td>VHL10927</td>\n",
       "      <td>Lagos</td>\n",
       "      <td>Toyota</td>\n",
       "      <td>Highlander Limited V6</td>\n",
       "      <td>2005</td>\n",
       "      <td>Gold</td>\n",
       "      <td>Foreign Used</td>\n",
       "      <td>NaN</td>\n",
       "    </tr>\n",
       "    <tr>\n",
       "      <th>3</th>\n",
       "      <td>VHL12909</td>\n",
       "      <td>Lagos</td>\n",
       "      <td>Toyota</td>\n",
       "      <td>Camry</td>\n",
       "      <td>2011</td>\n",
       "      <td>Gray</td>\n",
       "      <td>Foreign Used</td>\n",
       "      <td>166839.0</td>\n",
       "    </tr>\n",
       "    <tr>\n",
       "      <th>4</th>\n",
       "      <td>VHL12348</td>\n",
       "      <td>Lagos</td>\n",
       "      <td>Lexus</td>\n",
       "      <td>ES 350 FWD</td>\n",
       "      <td>2013</td>\n",
       "      <td>Red</td>\n",
       "      <td>Foreign Used</td>\n",
       "      <td>88862.0</td>\n",
       "    </tr>\n",
       "  </tbody>\n",
       "</table>\n",
       "</div>"
      ],
      "text/plain": [
       "  VehicleID Location   Maker                  Model  Year Colour  \\\n",
       "0  VHL18518    Abuja     BMW                   323i  2008  White   \n",
       "1  VHL17149    Lagos  Toyota                  Camry  2013  White   \n",
       "2  VHL10927    Lagos  Toyota  Highlander Limited V6  2005   Gold   \n",
       "3  VHL12909    Lagos  Toyota                  Camry  2011   Gray   \n",
       "4  VHL12348    Lagos   Lexus             ES 350 FWD  2013    Red   \n",
       "\n",
       "           Type  Distance  \n",
       "0  Foreign Used   30524.0  \n",
       "1  Foreign Used       NaN  \n",
       "2  Foreign Used       NaN  \n",
       "3  Foreign Used  166839.0  \n",
       "4  Foreign Used   88862.0  "
      ]
     },
     "execution_count": 12,
     "metadata": {},
     "output_type": "execute_result"
    }
   ],
   "source": [
    "test['Year'] = test['Year'].str.replace(',','')\n",
    "test.head()"
   ]
  },
  {
   "cell_type": "code",
   "execution_count": 13,
   "id": "9b0d3f7d",
   "metadata": {},
   "outputs": [
    {
     "data": {
      "text/plain": [
       "VehicleID      0\n",
       "Location       0\n",
       "Maker          0\n",
       "Model          0\n",
       "Year           2\n",
       "Colour         0\n",
       "Type          54\n",
       "Distance     676\n",
       "dtype: int64"
      ]
     },
     "execution_count": 13,
     "metadata": {},
     "output_type": "execute_result"
    },
    {
     "data": {
      "text/plain": [
       "VehicleID      0\n",
       "Location       0\n",
       "Maker          0\n",
       "Model          0\n",
       "Year           2\n",
       "Colour         0\n",
       "Type          54\n",
       "Distance     676\n",
       "dtype: int64"
      ]
     },
     "execution_count": 13,
     "metadata": {},
     "output_type": "execute_result"
    }
   ],
   "source": [
    "test.isnull().sum()"
   ]
  },
  {
   "cell_type": "code",
   "execution_count": 14,
   "id": "0a8106be",
   "metadata": {},
   "outputs": [
    {
     "data": {
      "image/png": "[encoded data removed]",
      "text/plain": [
       "<Figure size 720x432 with 1 Axes>"
      ]
     },
     "metadata": {},
     "output_type": "display_data"
    },
    {
     "data": {
      "image/png": "[encoded data removed]",
      "text/plain": [
       "<Figure size 720x432 with 1 Axes>"
      ]
     },
     "metadata": {},
     "output_type": "display_data"
    }
   ],
   "source": [
    "plt.figure(figsize=(10,6))\n",
    "train['Type'].value_counts().plot(kind='bar',color='seagreen');"
   ]
  },
  {
   "cell_type": "code",
   "execution_count": 15,
   "id": "3186b877",
   "metadata": {},
   "outputs": [
    {
     "data": {
      "image/png": "[encoded data removed]",
      "text/plain": [
       "<Figure size 720x432 with 1 Axes>"
      ]
     },
     "metadata": {},
     "output_type": "display_data"
    },
    {
     "data": {
      "image/png": "[encoded data removed]",
      "text/plain": [
       "<Figure size 720x432 with 1 Axes>"
      ]
     },
     "metadata": {},
     "output_type": "display_data"
    }
   ],
   "source": [
    "plt.figure(figsize=(10,6))\n",
    "test['Type'].value_counts().plot(kind='bar',color='sienna');"
   ]
  },
  {
   "cell_type": "code",
   "execution_count": 16,
   "id": "8a177480",
   "metadata": {},
   "outputs": [
    {
     "data": {
      "text/plain": [
       "Toyota           38.056905\n",
       "Lexus            22.192922\n",
       "Mercedes-Benz    16.835531\n",
       "Honda             4.968772\n",
       "Hyundai           2.248439\n",
       "Acura             2.137405\n",
       "Land Rover        1.721027\n",
       "Ford              1.665510\n",
       "BMW               1.540597\n",
       "Nissan            1.401804\n",
       "Peugeot           1.040944\n",
       "Kia               0.916031\n",
       "Volkswagen        0.749480\n",
       "Pontiac           0.416378\n",
       "Mazda             0.388619\n",
       "Dodge             0.333102\n",
       "Audi              0.319223\n",
       "Mitsubishi        0.319223\n",
       "Chevrolet         0.291464\n",
       "Infiniti          0.249827\n",
       "Jeep              0.249827\n",
       "Jaguar            0.166551\n",
       "Rolls-Royce       0.138793\n",
       "Mini              0.124913\n",
       "GMC               0.111034\n",
       "Suzuki            0.111034\n",
       "Cadillac          0.097155\n",
       "Scion             0.097155\n",
       "Porsche           0.097155\n",
       "Volvo             0.097155\n",
       "Bentley           0.083276\n",
       "Maserati          0.083276\n",
       "Lincoln           0.083276\n",
       "Buick             0.069396\n",
       "Chrysler          0.055517\n",
       "Lamborghini       0.055517\n",
       "Opel              0.055517\n",
       "Rover             0.041638\n",
       "GAC               0.041638\n",
       "Renault           0.041638\n",
       "Fiat              0.041638\n",
       "Citroen           0.027759\n",
       "Subaru            0.027759\n",
       "Saturn            0.027759\n",
       "JAC               0.027759\n",
       "Hummer            0.027759\n",
       "Skoda             0.013879\n",
       "Saab              0.013879\n",
       "IVM               0.013879\n",
       "King              0.013879\n",
       "MG                0.013879\n",
       "Tata              0.013879\n",
       "BAW               0.013879\n",
       "Ferrari           0.013879\n",
       "Brabus            0.013879\n",
       "Name: Maker, dtype: float64"
      ]
     },
     "execution_count": 16,
     "metadata": {},
     "output_type": "execute_result"
    },
    {
     "data": {
      "text/plain": [
       "Toyota           38.056905\n",
       "Lexus            22.192922\n",
       "Mercedes-Benz    16.835531\n",
       "Honda             4.968772\n",
       "Hyundai           2.248439\n",
       "Acura             2.137405\n",
       "Land Rover        1.721027\n",
       "Ford              1.665510\n",
       "BMW               1.540597\n",
       "Nissan            1.401804\n",
       "Peugeot           1.040944\n",
       "Kia               0.916031\n",
       "Volkswagen        0.749480\n",
       "Pontiac           0.416378\n",
       "Mazda             0.388619\n",
       "Dodge             0.333102\n",
       "Audi              0.319223\n",
       "Mitsubishi        0.319223\n",
       "Chevrolet         0.291464\n",
       "Infiniti          0.249827\n",
       "Jeep              0.249827\n",
       "Jaguar            0.166551\n",
       "Rolls-Royce       0.138793\n",
       "Mini              0.124913\n",
       "GMC               0.111034\n",
       "Suzuki            0.111034\n",
       "Cadillac          0.097155\n",
       "Scion             0.097155\n",
       "Porsche           0.097155\n",
       "Volvo             0.097155\n",
       "Bentley           0.083276\n",
       "Maserati          0.083276\n",
       "Lincoln           0.083276\n",
       "Buick             0.069396\n",
       "Chrysler          0.055517\n",
       "Lamborghini       0.055517\n",
       "Opel              0.055517\n",
       "Rover             0.041638\n",
       "GAC               0.041638\n",
       "Renault           0.041638\n",
       "Fiat              0.041638\n",
       "Citroen           0.027759\n",
       "Subaru            0.027759\n",
       "Saturn            0.027759\n",
       "JAC               0.027759\n",
       "Hummer            0.027759\n",
       "Skoda             0.013879\n",
       "Saab              0.013879\n",
       "IVM               0.013879\n",
       "King              0.013879\n",
       "MG                0.013879\n",
       "Tata              0.013879\n",
       "BAW               0.013879\n",
       "Ferrari           0.013879\n",
       "Brabus            0.013879\n",
       "Name: Maker, dtype: float64"
      ]
     },
     "execution_count": 16,
     "metadata": {},
     "output_type": "execute_result"
    }
   ],
   "source": [
    "train['Maker'].value_counts(normalize=True)*100"
   ]
  },
  {
   "cell_type": "markdown",
   "id": "f07ace87",
   "metadata": {},
   "source": [
    "test['Maker']"
   ]
  },
  {
   "cell_type": "code",
   "execution_count": 17,
   "id": "1515b910",
   "metadata": {},
   "outputs": [
    {
     "data": {
      "text/plain": [
       "Toyota           0.395924\n",
       "Lexus            0.212033\n",
       "Mercedes-Benz    0.156720\n",
       "Honda            0.056283\n",
       "Hyundai          0.021834\n",
       "BMW              0.019893\n",
       "Land Rover       0.018923\n",
       "Acura            0.017952\n",
       "Ford             0.015526\n",
       "Nissan           0.011645\n",
       "Volkswagen       0.010674\n",
       "Peugeot          0.009704\n",
       "Mazda            0.007763\n",
       "Kia              0.006308\n",
       "Pontiac          0.005822\n",
       "Audi             0.004852\n",
       "Chevrolet        0.003396\n",
       "Mitsubishi       0.002911\n",
       "Dodge            0.002911\n",
       "Lincoln          0.002426\n",
       "Infiniti         0.002426\n",
       "Jaguar           0.001941\n",
       "Mini             0.001456\n",
       "Opel             0.001456\n",
       "Volvo            0.000970\n",
       "Chrysler         0.000970\n",
       "Scion            0.000970\n",
       "Lamborghini      0.000485\n",
       "Jeep             0.000485\n",
       "Rolls-Royce      0.000485\n",
       "Buick            0.000485\n",
       "Cadillac         0.000485\n",
       "Subaru           0.000485\n",
       "Fiat             0.000485\n",
       "Maserati         0.000485\n",
       "Renault          0.000485\n",
       "GMC              0.000485\n",
       "Porsche          0.000485\n",
       "Seat             0.000485\n",
       "Brabus           0.000485\n",
       "Name: Maker, dtype: float64"
      ]
     },
     "execution_count": 17,
     "metadata": {},
     "output_type": "execute_result"
    },
    {
     "data": {
      "text/plain": [
       "Toyota           0.395924\n",
       "Lexus            0.212033\n",
       "Mercedes-Benz    0.156720\n",
       "Honda            0.056283\n",
       "Hyundai          0.021834\n",
       "BMW              0.019893\n",
       "Land Rover       0.018923\n",
       "Acura            0.017952\n",
       "Ford             0.015526\n",
       "Nissan           0.011645\n",
       "Volkswagen       0.010674\n",
       "Peugeot          0.009704\n",
       "Mazda            0.007763\n",
       "Kia              0.006308\n",
       "Pontiac          0.005822\n",
       "Audi             0.004852\n",
       "Chevrolet        0.003396\n",
       "Mitsubishi       0.002911\n",
       "Dodge            0.002911\n",
       "Lincoln          0.002426\n",
       "Infiniti         0.002426\n",
       "Jaguar           0.001941\n",
       "Mini             0.001456\n",
       "Opel             0.001456\n",
       "Volvo            0.000970\n",
       "Chrysler         0.000970\n",
       "Scion            0.000970\n",
       "Lamborghini      0.000485\n",
       "Jeep             0.000485\n",
       "Rolls-Royce      0.000485\n",
       "Buick            0.000485\n",
       "Cadillac         0.000485\n",
       "Subaru           0.000485\n",
       "Fiat             0.000485\n",
       "Maserati         0.000485\n",
       "Renault          0.000485\n",
       "GMC              0.000485\n",
       "Porsche          0.000485\n",
       "Seat             0.000485\n",
       "Brabus           0.000485\n",
       "Name: Maker, dtype: float64"
      ]
     },
     "execution_count": 17,
     "metadata": {},
     "output_type": "execute_result"
    }
   ],
   "source": [
    "test['Maker'].value_counts(normalize=True)"
   ]
  },
  {
   "cell_type": "code",
   "execution_count": 18,
   "id": "4ab7a3da",
   "metadata": {},
   "outputs": [
    {
     "data": {
      "text/html": [
       "<div>\n",
       "<style scoped>\n",
       "    .dataframe tbody tr th:only-of-type {\n",
       "        vertical-align: middle;\n",
       "    }\n",
       "\n",
       "    .dataframe tbody tr th {\n",
       "        vertical-align: top;\n",
       "    }\n",
       "\n",
       "    .dataframe thead th {\n",
       "        text-align: right;\n",
       "    }\n",
       "</style>\n",
       "<table border=\"1\" class=\"dataframe\">\n",
       "  <thead>\n",
       "    <tr style=\"text-align: right;\">\n",
       "      <th></th>\n",
       "      <th>VehicleID</th>\n",
       "      <th>Location</th>\n",
       "      <th>Maker</th>\n",
       "      <th>Model</th>\n",
       "      <th>Year</th>\n",
       "      <th>Colour</th>\n",
       "      <th>Amount (Million Naira)</th>\n",
       "      <th>Type</th>\n",
       "      <th>Distance</th>\n",
       "    </tr>\n",
       "  </thead>\n",
       "  <tbody>\n",
       "    <tr>\n",
       "      <th>0</th>\n",
       "      <td>VHL12546</td>\n",
       "      <td>Abuja</td>\n",
       "      <td>Honda</td>\n",
       "      <td>Accord Coupe EX V-6</td>\n",
       "      <td>2011</td>\n",
       "      <td>Silver</td>\n",
       "      <td>2.2</td>\n",
       "      <td>Nigerian Used</td>\n",
       "      <td>NaN</td>\n",
       "    </tr>\n",
       "    <tr>\n",
       "      <th>1</th>\n",
       "      <td>VHL18827</td>\n",
       "      <td>Ibadan</td>\n",
       "      <td>Hyundai</td>\n",
       "      <td>Sonata</td>\n",
       "      <td>2012</td>\n",
       "      <td>Silver</td>\n",
       "      <td>3.5</td>\n",
       "      <td>Nigerian Used</td>\n",
       "      <td>125000</td>\n",
       "    </tr>\n",
       "    <tr>\n",
       "      <th>2</th>\n",
       "      <td>VHL19499</td>\n",
       "      <td>Lagos</td>\n",
       "      <td>Lexus</td>\n",
       "      <td>RX 350</td>\n",
       "      <td>2010</td>\n",
       "      <td>Red</td>\n",
       "      <td>9.2</td>\n",
       "      <td>Foreign Used</td>\n",
       "      <td>110852</td>\n",
       "    </tr>\n",
       "    <tr>\n",
       "      <th>3</th>\n",
       "      <td>VHL17991</td>\n",
       "      <td>Abuja</td>\n",
       "      <td>Mercedes-Benz</td>\n",
       "      <td>GLE-Class</td>\n",
       "      <td>2017</td>\n",
       "      <td>Blue</td>\n",
       "      <td>22.8</td>\n",
       "      <td>Foreign Used</td>\n",
       "      <td>30000</td>\n",
       "    </tr>\n",
       "    <tr>\n",
       "      <th>4</th>\n",
       "      <td>VHL12170</td>\n",
       "      <td>Ibadan</td>\n",
       "      <td>Toyota</td>\n",
       "      <td>Highlander</td>\n",
       "      <td>2002</td>\n",
       "      <td>Red</td>\n",
       "      <td>2.6</td>\n",
       "      <td>Nigerian Used</td>\n",
       "      <td>125206</td>\n",
       "    </tr>\n",
       "  </tbody>\n",
       "</table>\n",
       "</div>"
      ],
      "text/plain": [
       "  VehicleID Location          Maker                Model  Year  Colour  \\\n",
       "0  VHL12546    Abuja          Honda  Accord Coupe EX V-6  2011  Silver   \n",
       "1  VHL18827   Ibadan        Hyundai               Sonata  2012  Silver   \n",
       "2  VHL19499    Lagos          Lexus               RX 350  2010     Red   \n",
       "3  VHL17991    Abuja  Mercedes-Benz            GLE-Class  2017    Blue   \n",
       "4  VHL12170   Ibadan         Toyota           Highlander  2002     Red   \n",
       "\n",
       "   Amount (Million Naira)           Type Distance  \n",
       "0                     2.2  Nigerian Used      NaN  \n",
       "1                     3.5  Nigerian Used   125000  \n",
       "2                     9.2   Foreign Used   110852  \n",
       "3                    22.8   Foreign Used    30000  \n",
       "4                     2.6  Nigerian Used   125206  "
      ]
     },
     "execution_count": 18,
     "metadata": {},
     "output_type": "execute_result"
    },
    {
     "data": {
      "text/html": [
       "<div>\n",
       "<style scoped>\n",
       "    .dataframe tbody tr th:only-of-type {\n",
       "        vertical-align: middle;\n",
       "    }\n",
       "\n",
       "    .dataframe tbody tr th {\n",
       "        vertical-align: top;\n",
       "    }\n",
       "\n",
       "    .dataframe thead th {\n",
       "        text-align: right;\n",
       "    }\n",
       "</style>\n",
       "<table border=\"1\" class=\"dataframe\">\n",
       "  <thead>\n",
       "    <tr style=\"text-align: right;\">\n",
       "      <th></th>\n",
       "      <th>VehicleID</th>\n",
       "      <th>Location</th>\n",
       "      <th>Maker</th>\n",
       "      <th>Model</th>\n",
       "      <th>Year</th>\n",
       "      <th>Colour</th>\n",
       "      <th>Amount (Million Naira)</th>\n",
       "      <th>Type</th>\n",
       "      <th>Distance</th>\n",
       "    </tr>\n",
       "  </thead>\n",
       "  <tbody>\n",
       "    <tr>\n",
       "      <th>0</th>\n",
       "      <td>VHL12546</td>\n",
       "      <td>Abuja</td>\n",
       "      <td>Honda</td>\n",
       "      <td>Accord Coupe EX V-6</td>\n",
       "      <td>2011</td>\n",
       "      <td>Silver</td>\n",
       "      <td>2.2</td>\n",
       "      <td>Nigerian Used</td>\n",
       "      <td>NaN</td>\n",
       "    </tr>\n",
       "    <tr>\n",
       "      <th>1</th>\n",
       "      <td>VHL18827</td>\n",
       "      <td>Ibadan</td>\n",
       "      <td>Hyundai</td>\n",
       "      <td>Sonata</td>\n",
       "      <td>2012</td>\n",
       "      <td>Silver</td>\n",
       "      <td>3.5</td>\n",
       "      <td>Nigerian Used</td>\n",
       "      <td>125000</td>\n",
       "    </tr>\n",
       "    <tr>\n",
       "      <th>2</th>\n",
       "      <td>VHL19499</td>\n",
       "      <td>Lagos</td>\n",
       "      <td>Lexus</td>\n",
       "      <td>RX 350</td>\n",
       "      <td>2010</td>\n",
       "      <td>Red</td>\n",
       "      <td>9.2</td>\n",
       "      <td>Foreign Used</td>\n",
       "      <td>110852</td>\n",
       "    </tr>\n",
       "    <tr>\n",
       "      <th>3</th>\n",
       "      <td>VHL17991</td>\n",
       "      <td>Abuja</td>\n",
       "      <td>Mercedes-Benz</td>\n",
       "      <td>GLE-Class</td>\n",
       "      <td>2017</td>\n",
       "      <td>Blue</td>\n",
       "      <td>22.8</td>\n",
       "      <td>Foreign Used</td>\n",
       "      <td>30000</td>\n",
       "    </tr>\n",
       "    <tr>\n",
       "      <th>4</th>\n",
       "      <td>VHL12170</td>\n",
       "      <td>Ibadan</td>\n",
       "      <td>Toyota</td>\n",
       "      <td>Highlander</td>\n",
       "      <td>2002</td>\n",
       "      <td>Red</td>\n",
       "      <td>2.6</td>\n",
       "      <td>Nigerian Used</td>\n",
       "      <td>125206</td>\n",
       "    </tr>\n",
       "  </tbody>\n",
       "</table>\n",
       "</div>"
      ],
      "text/plain": [
       "  VehicleID Location          Maker                Model  Year  Colour  \\\n",
       "0  VHL12546    Abuja          Honda  Accord Coupe EX V-6  2011  Silver   \n",
       "1  VHL18827   Ibadan        Hyundai               Sonata  2012  Silver   \n",
       "2  VHL19499    Lagos          Lexus               RX 350  2010     Red   \n",
       "3  VHL17991    Abuja  Mercedes-Benz            GLE-Class  2017    Blue   \n",
       "4  VHL12170   Ibadan         Toyota           Highlander  2002     Red   \n",
       "\n",
       "   Amount (Million Naira)           Type Distance  \n",
       "0                     2.2  Nigerian Used      NaN  \n",
       "1                     3.5  Nigerian Used   125000  \n",
       "2                     9.2   Foreign Used   110852  \n",
       "3                    22.8   Foreign Used    30000  \n",
       "4                     2.6  Nigerian Used   125206  "
      ]
     },
     "execution_count": 18,
     "metadata": {},
     "output_type": "execute_result"
    }
   ],
   "source": [
    "train['Distance']= train['Distance'].str.replace(',','')\n",
    "train.head()"
   ]
  },
  {
   "cell_type": "code",
   "execution_count": 19,
   "id": "1201fd6c",
   "metadata": {},
   "outputs": [
    {
     "name": "stdout",
     "output_type": "stream",
     "text": [
      "<class 'pandas.core.frame.DataFrame'>\n",
      "RangeIndex: 7205 entries, 0 to 7204\n",
      "Data columns (total 9 columns):\n",
      " #   Column                  Non-Null Count  Dtype  \n",
      "---  ------                  --------------  -----  \n",
      " 0   VehicleID               7205 non-null   object \n",
      " 1   Location                7205 non-null   object \n",
      " 2   Maker                   7205 non-null   object \n",
      " 3   Model                   7205 non-null   object \n",
      " 4   Year                    7184 non-null   object \n",
      " 5   Colour                  7205 non-null   object \n",
      " 6   Amount (Million Naira)  7188 non-null   float64\n",
      " 7   Type                    7008 non-null   object \n",
      " 8   Distance                4845 non-null   object \n",
      "dtypes: float64(1), object(8)\n",
      "memory usage: 506.7+ KB\n",
      "<class 'pandas.core.frame.DataFrame'>\n",
      "RangeIndex: 7205 entries, 0 to 7204\n",
      "Data columns (total 9 columns):\n",
      " #   Column                  Non-Null Count  Dtype  \n",
      "---  ------                  --------------  -----  \n",
      " 0   VehicleID               7205 non-null   object \n",
      " 1   Location                7205 non-null   object \n",
      " 2   Maker                   7205 non-null   object \n",
      " 3   Model                   7205 non-null   object \n",
      " 4   Year                    7184 non-null   object \n",
      " 5   Colour                  7205 non-null   object \n",
      " 6   Amount (Million Naira)  7188 non-null   float64\n",
      " 7   Type                    7008 non-null   object \n",
      " 8   Distance                4845 non-null   object \n",
      "dtypes: float64(1), object(8)\n",
      "memory usage: 506.7+ KB\n"
     ]
    }
   ],
   "source": [
    "train.info()"
   ]
  },
  {
   "cell_type": "code",
   "execution_count": 20,
   "id": "c37c867b",
   "metadata": {},
   "outputs": [],
   "source": [
    "train['Distance']= train['Distance'].astype(float)"
   ]
  },
  {
   "cell_type": "code",
   "execution_count": 21,
   "id": "43aeb3df",
   "metadata": {},
   "outputs": [
    {
     "data": {
      "text/plain": [
       "103198.90361197111"
      ]
     },
     "execution_count": 21,
     "metadata": {},
     "output_type": "execute_result"
    },
    {
     "data": {
      "text/plain": [
       "103198.90361197111"
      ]
     },
     "execution_count": 21,
     "metadata": {},
     "output_type": "execute_result"
    }
   ],
   "source": [
    "train['Distance'].mean()"
   ]
  },
  {
   "cell_type": "code",
   "execution_count": 22,
   "id": "35592685",
   "metadata": {},
   "outputs": [
    {
     "data": {
      "text/plain": [
       "80830.0"
      ]
     },
     "execution_count": 22,
     "metadata": {},
     "output_type": "execute_result"
    },
    {
     "data": {
      "text/plain": [
       "80830.0"
      ]
     },
     "execution_count": 22,
     "metadata": {},
     "output_type": "execute_result"
    }
   ],
   "source": [
    "train['Distance'].median()"
   ]
  },
  {
   "cell_type": "code",
   "execution_count": 23,
   "id": "192db5e5",
   "metadata": {},
   "outputs": [
    {
     "name": "stdout",
     "output_type": "stream",
     "text": [
      "<class 'pandas.core.frame.DataFrame'>\n",
      "RangeIndex: 7205 entries, 0 to 7204\n",
      "Data columns (total 9 columns):\n",
      " #   Column                  Non-Null Count  Dtype  \n",
      "---  ------                  --------------  -----  \n",
      " 0   VehicleID               7205 non-null   object \n",
      " 1   Location                7205 non-null   object \n",
      " 2   Maker                   7205 non-null   object \n",
      " 3   Model                   7205 non-null   object \n",
      " 4   Year                    7184 non-null   object \n",
      " 5   Colour                  7205 non-null   object \n",
      " 6   Amount (Million Naira)  7188 non-null   float64\n",
      " 7   Type                    7008 non-null   object \n",
      " 8   Distance                4845 non-null   float64\n",
      "dtypes: float64(2), object(7)\n",
      "memory usage: 506.7+ KB\n",
      "<class 'pandas.core.frame.DataFrame'>\n",
      "RangeIndex: 7205 entries, 0 to 7204\n",
      "Data columns (total 9 columns):\n",
      " #   Column                  Non-Null Count  Dtype  \n",
      "---  ------                  --------------  -----  \n",
      " 0   VehicleID               7205 non-null   object \n",
      " 1   Location                7205 non-null   object \n",
      " 2   Maker                   7205 non-null   object \n",
      " 3   Model                   7205 non-null   object \n",
      " 4   Year                    7184 non-null   object \n",
      " 5   Colour                  7205 non-null   object \n",
      " 6   Amount (Million Naira)  7188 non-null   float64\n",
      " 7   Type                    7008 non-null   object \n",
      " 8   Distance                4845 non-null   float64\n",
      "dtypes: float64(2), object(7)\n",
      "memory usage: 506.7+ KB\n"
     ]
    }
   ],
   "source": [
    "train.info()"
   ]
  },
  {
   "cell_type": "code",
   "execution_count": 24,
   "id": "c726982d",
   "metadata": {},
   "outputs": [],
   "source": [
    "train['Distance'].fillna(train['Distance'].median(),inplace=True)"
   ]
  },
  {
   "cell_type": "code",
   "execution_count": 25,
   "id": "7049eb5d",
   "metadata": {},
   "outputs": [],
   "source": [
    "test['Distance'].fillna(test['Distance'].median(),inplace=True)"
   ]
  },
  {
   "cell_type": "code",
   "execution_count": 26,
   "id": "efabf9e6",
   "metadata": {},
   "outputs": [
    {
     "data": {
      "text/plain": [
       "0    2011\n",
       "1    2012\n",
       "2    2010\n",
       "3    2017\n",
       "4    2002\n",
       "Name: Year, dtype: object"
      ]
     },
     "execution_count": 26,
     "metadata": {},
     "output_type": "execute_result"
    },
    {
     "data": {
      "text/plain": [
       "0    2011\n",
       "1    2012\n",
       "2    2010\n",
       "3    2017\n",
       "4    2002\n",
       "Name: Year, dtype: object"
      ]
     },
     "execution_count": 26,
     "metadata": {},
     "output_type": "execute_result"
    }
   ],
   "source": [
    "train['Year'] = train['Year'].str.replace(',','')\n",
    "train.Year.head()"
   ]
  },
  {
   "cell_type": "code",
   "execution_count": 27,
   "id": "b489744a",
   "metadata": {},
   "outputs": [],
   "source": [
    "train['Year']= train['Year'].astype(float).head()"
   ]
  },
  {
   "cell_type": "code",
   "execution_count": 28,
   "id": "eaffbb85",
   "metadata": {},
   "outputs": [],
   "source": [
    "test['Year'] = test['Year'].astype(float)"
   ]
  },
  {
   "cell_type": "code",
   "execution_count": 29,
   "id": "f771cea8",
   "metadata": {},
   "outputs": [],
   "source": [
    "Avg_val= train['Year'].median()"
   ]
  },
  {
   "cell_type": "code",
   "execution_count": 30,
   "id": "26bd7fe0",
   "metadata": {},
   "outputs": [],
   "source": [
    "train['Year'].fillna(Avg_val,inplace=True)"
   ]
  },
  {
   "cell_type": "code",
   "execution_count": 31,
   "id": "15b3d3d5",
   "metadata": {},
   "outputs": [],
   "source": [
    "test['Year'].fillna(test['Year'].median(),inplace=True)"
   ]
  },
  {
   "cell_type": "code",
   "execution_count": 32,
   "id": "c99f685b",
   "metadata": {},
   "outputs": [
    {
     "name": "stdout",
     "output_type": "stream",
     "text": [
      "<class 'pandas.core.frame.DataFrame'>\n",
      "RangeIndex: 7205 entries, 0 to 7204\n",
      "Data columns (total 9 columns):\n",
      " #   Column                  Non-Null Count  Dtype  \n",
      "---  ------                  --------------  -----  \n",
      " 0   VehicleID               7205 non-null   object \n",
      " 1   Location                7205 non-null   object \n",
      " 2   Maker                   7205 non-null   object \n",
      " 3   Model                   7205 non-null   object \n",
      " 4   Year                    7205 non-null   float64\n",
      " 5   Colour                  7205 non-null   object \n",
      " 6   Amount (Million Naira)  7188 non-null   float64\n",
      " 7   Type                    7008 non-null   object \n",
      " 8   Distance                7205 non-null   float64\n",
      "dtypes: float64(3), object(6)\n",
      "memory usage: 506.7+ KB\n",
      "<class 'pandas.core.frame.DataFrame'>\n",
      "RangeIndex: 7205 entries, 0 to 7204\n",
      "Data columns (total 9 columns):\n",
      " #   Column                  Non-Null Count  Dtype  \n",
      "---  ------                  --------------  -----  \n",
      " 0   VehicleID               7205 non-null   object \n",
      " 1   Location                7205 non-null   object \n",
      " 2   Maker                   7205 non-null   object \n",
      " 3   Model                   7205 non-null   object \n",
      " 4   Year                    7205 non-null   float64\n",
      " 5   Colour                  7205 non-null   object \n",
      " 6   Amount (Million Naira)  7188 non-null   float64\n",
      " 7   Type                    7008 non-null   object \n",
      " 8   Distance                7205 non-null   float64\n",
      "dtypes: float64(3), object(6)\n",
      "memory usage: 506.7+ KB\n"
     ]
    }
   ],
   "source": [
    "train.info()"
   ]
  },
  {
   "cell_type": "code",
   "execution_count": 33,
   "id": "2b31a221",
   "metadata": {},
   "outputs": [
    {
     "data": {
      "text/plain": [
       "0        2.20\n",
       "1        3.50\n",
       "2        9.20\n",
       "3       22.80\n",
       "4        2.60\n",
       "        ...  \n",
       "7200     5.70\n",
       "7201     4.00\n",
       "7202     2.85\n",
       "7203     8.65\n",
       "7204     3.38\n",
       "Name: Amount (Million Naira), Length: 7205, dtype: float64"
      ]
     },
     "execution_count": 33,
     "metadata": {},
     "output_type": "execute_result"
    },
    {
     "data": {
      "text/plain": [
       "0        2.20\n",
       "1        3.50\n",
       "2        9.20\n",
       "3       22.80\n",
       "4        2.60\n",
       "        ...  \n",
       "7200     5.70\n",
       "7201     4.00\n",
       "7202     2.85\n",
       "7203     8.65\n",
       "7204     3.38\n",
       "Name: Amount (Million Naira), Length: 7205, dtype: float64"
      ]
     },
     "execution_count": 33,
     "metadata": {},
     "output_type": "execute_result"
    }
   ],
   "source": [
    "train['Amount (Million Naira)']"
   ]
  },
  {
   "cell_type": "code",
   "execution_count": 34,
   "id": "c750694a",
   "metadata": {},
   "outputs": [
    {
     "data": {
      "text/plain": [
       "0"
      ]
     },
     "execution_count": 34,
     "metadata": {},
     "output_type": "execute_result"
    },
    {
     "data": {
      "text/plain": [
       "0"
      ]
     },
     "execution_count": 34,
     "metadata": {},
     "output_type": "execute_result"
    }
   ],
   "source": [
    "train['Amount (Million Naira)'].fillna(train['Amount (Million Naira)'].mean(),inplace=True)\n",
    "train['Amount (Million Naira)'].isnull().sum()"
   ]
  },
  {
   "cell_type": "code",
   "execution_count": 35,
   "id": "f0498942",
   "metadata": {},
   "outputs": [],
   "source": [
    "train['Type'].fillna(method='bfill',inplace=True)"
   ]
  },
  {
   "cell_type": "code",
   "execution_count": 36,
   "id": "dea8a335",
   "metadata": {},
   "outputs": [],
   "source": [
    "test['Type'].fillna(method= 'bfill',inplace=True)"
   ]
  },
  {
   "cell_type": "code",
   "execution_count": 37,
   "id": "20b3352f",
   "metadata": {},
   "outputs": [
    {
     "name": "stdout",
     "output_type": "stream",
     "text": [
      "<class 'pandas.core.frame.DataFrame'>\n",
      "RangeIndex: 7205 entries, 0 to 7204\n",
      "Data columns (total 9 columns):\n",
      " #   Column                  Non-Null Count  Dtype  \n",
      "---  ------                  --------------  -----  \n",
      " 0   VehicleID               7205 non-null   object \n",
      " 1   Location                7205 non-null   object \n",
      " 2   Maker                   7205 non-null   object \n",
      " 3   Model                   7205 non-null   object \n",
      " 4   Year                    7205 non-null   float64\n",
      " 5   Colour                  7205 non-null   object \n",
      " 6   Amount (Million Naira)  7205 non-null   float64\n",
      " 7   Type                    7205 non-null   object \n",
      " 8   Distance                7205 non-null   float64\n",
      "dtypes: float64(3), object(6)\n",
      "memory usage: 506.7+ KB\n",
      "<class 'pandas.core.frame.DataFrame'>\n",
      "RangeIndex: 7205 entries, 0 to 7204\n",
      "Data columns (total 9 columns):\n",
      " #   Column                  Non-Null Count  Dtype  \n",
      "---  ------                  --------------  -----  \n",
      " 0   VehicleID               7205 non-null   object \n",
      " 1   Location                7205 non-null   object \n",
      " 2   Maker                   7205 non-null   object \n",
      " 3   Model                   7205 non-null   object \n",
      " 4   Year                    7205 non-null   float64\n",
      " 5   Colour                  7205 non-null   object \n",
      " 6   Amount (Million Naira)  7205 non-null   float64\n",
      " 7   Type                    7205 non-null   object \n",
      " 8   Distance                7205 non-null   float64\n",
      "dtypes: float64(3), object(6)\n",
      "memory usage: 506.7+ KB\n"
     ]
    }
   ],
   "source": [
    "train.info()"
   ]
  },
  {
   "cell_type": "code",
   "execution_count": 38,
   "id": "03665609",
   "metadata": {},
   "outputs": [
    {
     "name": "stdout",
     "output_type": "stream",
     "text": [
      "<class 'pandas.core.frame.DataFrame'>\n",
      "RangeIndex: 2061 entries, 0 to 2060\n",
      "Data columns (total 8 columns):\n",
      " #   Column     Non-Null Count  Dtype  \n",
      "---  ------     --------------  -----  \n",
      " 0   VehicleID  2061 non-null   object \n",
      " 1   Location   2061 non-null   object \n",
      " 2   Maker      2061 non-null   object \n",
      " 3   Model      2061 non-null   object \n",
      " 4   Year       2061 non-null   float64\n",
      " 5   Colour     2061 non-null   object \n",
      " 6   Type       2061 non-null   object \n",
      " 7   Distance   2061 non-null   float64\n",
      "dtypes: float64(2), object(6)\n",
      "memory usage: 128.9+ KB\n",
      "<class 'pandas.core.frame.DataFrame'>\n",
      "RangeIndex: 2061 entries, 0 to 2060\n",
      "Data columns (total 8 columns):\n",
      " #   Column     Non-Null Count  Dtype  \n",
      "---  ------     --------------  -----  \n",
      " 0   VehicleID  2061 non-null   object \n",
      " 1   Location   2061 non-null   object \n",
      " 2   Maker      2061 non-null   object \n",
      " 3   Model      2061 non-null   object \n",
      " 4   Year       2061 non-null   float64\n",
      " 5   Colour     2061 non-null   object \n",
      " 6   Type       2061 non-null   object \n",
      " 7   Distance   2061 non-null   float64\n",
      "dtypes: float64(2), object(6)\n",
      "memory usage: 128.9+ KB\n"
     ]
    }
   ],
   "source": [
    "test.info()"
   ]
  },
  {
   "cell_type": "code",
   "execution_count": 39,
   "id": "13c7139e",
   "metadata": {},
   "outputs": [
    {
     "data": {
      "image/png": "[encoded data removed]",
      "text/plain": [
       "<Figure size 720x432 with 1 Axes>"
      ]
     },
     "metadata": {},
     "output_type": "display_data"
    },
    {
     "data": {
      "image/png": "[encoded data removed]",
      "text/plain": [
       "<Figure size 720x432 with 1 Axes>"
      ]
     },
     "metadata": {},
     "output_type": "display_data"
    }
   ],
   "source": [
    "plt.figure(figsize=(10,6))\n",
    "train['Type'].value_counts().plot(kind='bar',color='seagreen');"
   ]
  },
  {
   "cell_type": "code",
   "execution_count": 40,
   "id": "fddbe22f",
   "metadata": {},
   "outputs": [
    {
     "data": {
      "image/png": "[encoded data removed]",
      "text/plain": [
       "<Figure size 720x432 with 1 Axes>"
      ]
     },
     "metadata": {},
     "output_type": "display_data"
    },
    {
     "data": {
      "image/png": "[encoded data removed]",
      "text/plain": [
       "<Figure size 720x432 with 1 Axes>"
      ]
     },
     "metadata": {},
     "output_type": "display_data"
    }
   ],
   "source": [
    "plt.figure(figsize=(10,6))\n",
    "test['Type'].value_counts().plot(kind='bar',color='blue');"
   ]
  },
  {
   "cell_type": "code",
   "execution_count": 41,
   "id": "fc053f78",
   "metadata": {},
   "outputs": [
    {
     "data": {
      "text/plain": [
       "3"
      ]
     },
     "execution_count": 41,
     "metadata": {},
     "output_type": "execute_result"
    },
    {
     "data": {
      "text/plain": [
       "3"
      ]
     },
     "execution_count": 41,
     "metadata": {},
     "output_type": "execute_result"
    }
   ],
   "source": [
    "train['Location'].nunique()"
   ]
  },
  {
   "cell_type": "code",
   "execution_count": 42,
   "id": "d77d9418",
   "metadata": {},
   "outputs": [
    {
     "data": {
      "text/plain": [
       "3"
      ]
     },
     "execution_count": 42,
     "metadata": {},
     "output_type": "execute_result"
    },
    {
     "data": {
      "text/plain": [
       "3"
      ]
     },
     "execution_count": 42,
     "metadata": {},
     "output_type": "execute_result"
    }
   ],
   "source": [
    "test['Location'].nunique()"
   ]
  },
  {
   "cell_type": "code",
   "execution_count": 43,
   "id": "fbbc0a86",
   "metadata": {},
   "outputs": [
    {
     "data": {
      "image/png": "[encoded data removed]",
      "text/plain": [
       "<Figure size 720x432 with 1 Axes>"
      ]
     },
     "metadata": {},
     "output_type": "display_data"
    },
    {
     "data": {
      "image/png": "[encoded data removed]",
      "text/plain": [
       "<Figure size 720x432 with 1 Axes>"
      ]
     },
     "metadata": {},
     "output_type": "display_data"
    }
   ],
   "source": [
    "plt.figure(figsize=(10,6))\n",
    "train['Location'].value_counts().plot(kind='bar',color='teal');"
   ]
  },
  {
   "cell_type": "code",
   "execution_count": 44,
   "id": "b1b2ecab",
   "metadata": {},
   "outputs": [
    {
     "data": {
      "text/plain": [
       "Text(0.5, 1.0, 'LOCATION PLOT(TEST SET)')"
      ]
     },
     "execution_count": 44,
     "metadata": {},
     "output_type": "execute_result"
    },
    {
     "data": {
      "text/plain": [
       "Text(0.5, 1.0, 'LOCATION PLOT(TEST SET)')"
      ]
     },
     "execution_count": 44,
     "metadata": {},
     "output_type": "execute_result"
    },
    {
     "data": {
      "image/png": "[encoded data removed]",
      "text/plain": [
       "<Figure size 720x432 with 1 Axes>"
      ]
     },
     "metadata": {},
     "output_type": "display_data"
    },
    {
     "data": {
      "image/png": "[encoded data removed]",
      "text/plain": [
       "<Figure size 720x432 with 1 Axes>"
      ]
     },
     "metadata": {},
     "output_type": "display_data"
    }
   ],
   "source": [
    "plt.figure(figsize=(10,6))\n",
    "test['Location'].value_counts().plot(kind='bar',color='brown');\n",
    "plt.title('LOCATION PLOT(TEST SET)',fontweight='bold',fontsize=14)"
   ]
  },
  {
   "cell_type": "code",
   "execution_count": 45,
   "id": "65c783df",
   "metadata": {},
   "outputs": [
    {
     "data": {
      "image/png": "[encoded data removed]",
      "text/plain": [
       "<Figure size 720x432 with 1 Axes>"
      ]
     },
     "metadata": {},
     "output_type": "display_data"
    },
    {
     "data": {
      "image/png": "[encoded data removed]",
      "text/plain": [
       "<Figure size 720x432 with 1 Axes>"
      ]
     },
     "metadata": {},
     "output_type": "display_data"
    }
   ],
   "source": [
    "plt.figure(figsize=(10,6))\n",
    "train['Maker'].value_counts().plot(kind='bar');\n",
    "plt.title('Car Brands Plot(Train Set)',fontweight='bold',fontsize=14);"
   ]
  },
  {
   "cell_type": "code",
   "execution_count": 46,
   "id": "490bdc22",
   "metadata": {},
   "outputs": [
    {
     "data": {
      "image/png": "[encoded data removed]",
      "text/plain": [
       "<Figure size 720x432 with 1 Axes>"
      ]
     },
     "metadata": {},
     "output_type": "display_data"
    },
    {
     "data": {
      "image/png": "[encoded data removed]",
      "text/plain": [
       "<Figure size 720x432 with 1 Axes>"
      ]
     },
     "metadata": {},
     "output_type": "display_data"
    }
   ],
   "source": [
    "plt.figure(figsize=(10,6))\n",
    "test['Maker'].value_counts().plot(kind='bar',color='red');\n",
    "plt.title('Car Brands Plot(Test Set)',fontweight='bold',fontsize=14);"
   ]
  },
  {
   "cell_type": "code",
   "execution_count": 47,
   "id": "15f34f85",
   "metadata": {},
   "outputs": [
    {
     "data": {
      "text/plain": [
       "Camry                     9.035392\n",
       "ES 350                    4.163775\n",
       "Corolla                   3.913949\n",
       "C300                      2.761971\n",
       "RX                        2.192922\n",
       "                            ...   \n",
       "Accent 1.6                0.013879\n",
       "Land Cruiser Prado EXR    0.013879\n",
       "Lx                        0.013879\n",
       "CLK                       0.013879\n",
       "320i SV Premium           0.013879\n",
       "Name: Model, Length: 1223, dtype: float64"
      ]
     },
     "execution_count": 47,
     "metadata": {},
     "output_type": "execute_result"
    },
    {
     "data": {
      "text/plain": [
       "Camry                     9.035392\n",
       "ES 350                    4.163775\n",
       "Corolla                   3.913949\n",
       "C300                      2.761971\n",
       "RX                        2.192922\n",
       "                            ...   \n",
       "Accent 1.6                0.013879\n",
       "Land Cruiser Prado EXR    0.013879\n",
       "Lx                        0.013879\n",
       "CLK                       0.013879\n",
       "320i SV Premium           0.013879\n",
       "Name: Model, Length: 1223, dtype: float64"
      ]
     },
     "execution_count": 47,
     "metadata": {},
     "output_type": "execute_result"
    }
   ],
   "source": [
    "train['Model'].value_counts(normalize=True)*100"
   ]
  },
  {
   "cell_type": "code",
   "execution_count": 48,
   "id": "2541157e",
   "metadata": {},
   "outputs": [
    {
     "data": {
      "text/plain": [
       "Camry                       8.879185\n",
       "ES 350                      4.415332\n",
       "Corolla                     3.590490\n",
       "C300                        2.668607\n",
       "RX                          2.280446\n",
       "                              ...   \n",
       "XF Premium                  0.048520\n",
       "Land Cruiser Prado GX       0.048520\n",
       "Accord EX V6 Automatic      0.048520\n",
       "Tacoma Access Cab I4 AWD    0.048520\n",
       "Torrent                     0.048520\n",
       "Name: Model, Length: 587, dtype: float64"
      ]
     },
     "execution_count": 48,
     "metadata": {},
     "output_type": "execute_result"
    },
    {
     "data": {
      "text/plain": [
       "Camry                       8.879185\n",
       "ES 350                      4.415332\n",
       "Corolla                     3.590490\n",
       "C300                        2.668607\n",
       "RX                          2.280446\n",
       "                              ...   \n",
       "XF Premium                  0.048520\n",
       "Land Cruiser Prado GX       0.048520\n",
       "Accord EX V6 Automatic      0.048520\n",
       "Tacoma Access Cab I4 AWD    0.048520\n",
       "Torrent                     0.048520\n",
       "Name: Model, Length: 587, dtype: float64"
      ]
     },
     "execution_count": 48,
     "metadata": {},
     "output_type": "execute_result"
    }
   ],
   "source": [
    "test['Model'].value_counts(normalize=True)*100"
   ]
  },
  {
   "cell_type": "code",
   "execution_count": 49,
   "id": "a82e2385",
   "metadata": {},
   "outputs": [
    {
     "data": {
      "text/html": [
       "<div>\n",
       "<style scoped>\n",
       "    .dataframe tbody tr th:only-of-type {\n",
       "        vertical-align: middle;\n",
       "    }\n",
       "\n",
       "    .dataframe tbody tr th {\n",
       "        vertical-align: top;\n",
       "    }\n",
       "\n",
       "    .dataframe thead th {\n",
       "        text-align: right;\n",
       "    }\n",
       "</style>\n",
       "<table border=\"1\" class=\"dataframe\">\n",
       "  <thead>\n",
       "    <tr style=\"text-align: right;\">\n",
       "      <th></th>\n",
       "      <th>Year</th>\n",
       "      <th>Amount (Million Naira)</th>\n",
       "      <th>Distance</th>\n",
       "    </tr>\n",
       "  </thead>\n",
       "  <tbody>\n",
       "    <tr>\n",
       "      <th>count</th>\n",
       "      <td>7205.000000</td>\n",
       "      <td>7205.000000</td>\n",
       "      <td>7.205000e+03</td>\n",
       "    </tr>\n",
       "    <tr>\n",
       "      <th>mean</th>\n",
       "      <td>2010.999584</td>\n",
       "      <td>11.847999</td>\n",
       "      <td>9.587196e+04</td>\n",
       "    </tr>\n",
       "    <tr>\n",
       "      <th>std</th>\n",
       "      <td>0.128524</td>\n",
       "      <td>25.289031</td>\n",
       "      <td>9.756484e+04</td>\n",
       "    </tr>\n",
       "    <tr>\n",
       "      <th>min</th>\n",
       "      <td>2002.000000</td>\n",
       "      <td>0.450000</td>\n",
       "      <td>1.000000e+00</td>\n",
       "    </tr>\n",
       "    <tr>\n",
       "      <th>25%</th>\n",
       "      <td>2011.000000</td>\n",
       "      <td>3.500000</td>\n",
       "      <td>6.700000e+04</td>\n",
       "    </tr>\n",
       "    <tr>\n",
       "      <th>50%</th>\n",
       "      <td>2011.000000</td>\n",
       "      <td>5.700000</td>\n",
       "      <td>8.083000e+04</td>\n",
       "    </tr>\n",
       "    <tr>\n",
       "      <th>75%</th>\n",
       "      <td>2011.000000</td>\n",
       "      <td>11.800000</td>\n",
       "      <td>9.557200e+04</td>\n",
       "    </tr>\n",
       "    <tr>\n",
       "      <th>max</th>\n",
       "      <td>2017.000000</td>\n",
       "      <td>456.000000</td>\n",
       "      <td>1.985400e+06</td>\n",
       "    </tr>\n",
       "  </tbody>\n",
       "</table>\n",
       "</div>"
      ],
      "text/plain": [
       "              Year  Amount (Million Naira)      Distance\n",
       "count  7205.000000             7205.000000  7.205000e+03\n",
       "mean   2010.999584               11.847999  9.587196e+04\n",
       "std       0.128524               25.289031  9.756484e+04\n",
       "min    2002.000000                0.450000  1.000000e+00\n",
       "25%    2011.000000                3.500000  6.700000e+04\n",
       "50%    2011.000000                5.700000  8.083000e+04\n",
       "75%    2011.000000               11.800000  9.557200e+04\n",
       "max    2017.000000              456.000000  1.985400e+06"
      ]
     },
     "execution_count": 49,
     "metadata": {},
     "output_type": "execute_result"
    },
    {
     "data": {
      "text/html": [
       "<div>\n",
       "<style scoped>\n",
       "    .dataframe tbody tr th:only-of-type {\n",
       "        vertical-align: middle;\n",
       "    }\n",
       "\n",
       "    .dataframe tbody tr th {\n",
       "        vertical-align: top;\n",
       "    }\n",
       "\n",
       "    .dataframe thead th {\n",
       "        text-align: right;\n",
       "    }\n",
       "</style>\n",
       "<table border=\"1\" class=\"dataframe\">\n",
       "  <thead>\n",
       "    <tr style=\"text-align: right;\">\n",
       "      <th></th>\n",
       "      <th>Year</th>\n",
       "      <th>Amount (Million Naira)</th>\n",
       "      <th>Distance</th>\n",
       "    </tr>\n",
       "  </thead>\n",
       "  <tbody>\n",
       "    <tr>\n",
       "      <th>count</th>\n",
       "      <td>7205.000000</td>\n",
       "      <td>7205.000000</td>\n",
       "      <td>7.205000e+03</td>\n",
       "    </tr>\n",
       "    <tr>\n",
       "      <th>mean</th>\n",
       "      <td>2010.999584</td>\n",
       "      <td>11.847999</td>\n",
       "      <td>9.587196e+04</td>\n",
       "    </tr>\n",
       "    <tr>\n",
       "      <th>std</th>\n",
       "      <td>0.128524</td>\n",
       "      <td>25.289031</td>\n",
       "      <td>9.756484e+04</td>\n",
       "    </tr>\n",
       "    <tr>\n",
       "      <th>min</th>\n",
       "      <td>2002.000000</td>\n",
       "      <td>0.450000</td>\n",
       "      <td>1.000000e+00</td>\n",
       "    </tr>\n",
       "    <tr>\n",
       "      <th>25%</th>\n",
       "      <td>2011.000000</td>\n",
       "      <td>3.500000</td>\n",
       "      <td>6.700000e+04</td>\n",
       "    </tr>\n",
       "    <tr>\n",
       "      <th>50%</th>\n",
       "      <td>2011.000000</td>\n",
       "      <td>5.700000</td>\n",
       "      <td>8.083000e+04</td>\n",
       "    </tr>\n",
       "    <tr>\n",
       "      <th>75%</th>\n",
       "      <td>2011.000000</td>\n",
       "      <td>11.800000</td>\n",
       "      <td>9.557200e+04</td>\n",
       "    </tr>\n",
       "    <tr>\n",
       "      <th>max</th>\n",
       "      <td>2017.000000</td>\n",
       "      <td>456.000000</td>\n",
       "      <td>1.985400e+06</td>\n",
       "    </tr>\n",
       "  </tbody>\n",
       "</table>\n",
       "</div>"
      ],
      "text/plain": [
       "              Year  Amount (Million Naira)      Distance\n",
       "count  7205.000000             7205.000000  7.205000e+03\n",
       "mean   2010.999584               11.847999  9.587196e+04\n",
       "std       0.128524               25.289031  9.756484e+04\n",
       "min    2002.000000                0.450000  1.000000e+00\n",
       "25%    2011.000000                3.500000  6.700000e+04\n",
       "50%    2011.000000                5.700000  8.083000e+04\n",
       "75%    2011.000000               11.800000  9.557200e+04\n",
       "max    2017.000000              456.000000  1.985400e+06"
      ]
     },
     "execution_count": 49,
     "metadata": {},
     "output_type": "execute_result"
    }
   ],
   "source": [
    "train.describe()"
   ]
  },
  {
   "cell_type": "code",
   "execution_count": 50,
   "id": "e7daca15",
   "metadata": {},
   "outputs": [
    {
     "data": {
      "text/html": [
       "<div>\n",
       "<style scoped>\n",
       "    .dataframe tbody tr th:only-of-type {\n",
       "        vertical-align: middle;\n",
       "    }\n",
       "\n",
       "    .dataframe tbody tr th {\n",
       "        vertical-align: top;\n",
       "    }\n",
       "\n",
       "    .dataframe thead th {\n",
       "        text-align: right;\n",
       "    }\n",
       "</style>\n",
       "<table border=\"1\" class=\"dataframe\">\n",
       "  <thead>\n",
       "    <tr style=\"text-align: right;\">\n",
       "      <th></th>\n",
       "      <th>Year</th>\n",
       "      <th>Distance</th>\n",
       "    </tr>\n",
       "  </thead>\n",
       "  <tbody>\n",
       "    <tr>\n",
       "      <th>count</th>\n",
       "      <td>2061.000000</td>\n",
       "      <td>2061.000000</td>\n",
       "    </tr>\n",
       "    <tr>\n",
       "      <th>mean</th>\n",
       "      <td>2011.077147</td>\n",
       "      <td>96650.133916</td>\n",
       "    </tr>\n",
       "    <tr>\n",
       "      <th>std</th>\n",
       "      <td>4.964864</td>\n",
       "      <td>87473.957491</td>\n",
       "    </tr>\n",
       "    <tr>\n",
       "      <th>min</th>\n",
       "      <td>1982.000000</td>\n",
       "      <td>1.000000</td>\n",
       "    </tr>\n",
       "    <tr>\n",
       "      <th>25%</th>\n",
       "      <td>2008.000000</td>\n",
       "      <td>67415.000000</td>\n",
       "    </tr>\n",
       "    <tr>\n",
       "      <th>50%</th>\n",
       "      <td>2011.000000</td>\n",
       "      <td>82000.000000</td>\n",
       "    </tr>\n",
       "    <tr>\n",
       "      <th>75%</th>\n",
       "      <td>2014.000000</td>\n",
       "      <td>97000.000000</td>\n",
       "    </tr>\n",
       "    <tr>\n",
       "      <th>max</th>\n",
       "      <td>2022.000000</td>\n",
       "      <td>985216.000000</td>\n",
       "    </tr>\n",
       "  </tbody>\n",
       "</table>\n",
       "</div>"
      ],
      "text/plain": [
       "              Year       Distance\n",
       "count  2061.000000    2061.000000\n",
       "mean   2011.077147   96650.133916\n",
       "std       4.964864   87473.957491\n",
       "min    1982.000000       1.000000\n",
       "25%    2008.000000   67415.000000\n",
       "50%    2011.000000   82000.000000\n",
       "75%    2014.000000   97000.000000\n",
       "max    2022.000000  985216.000000"
      ]
     },
     "execution_count": 50,
     "metadata": {},
     "output_type": "execute_result"
    },
    {
     "data": {
      "text/html": [
       "<div>\n",
       "<style scoped>\n",
       "    .dataframe tbody tr th:only-of-type {\n",
       "        vertical-align: middle;\n",
       "    }\n",
       "\n",
       "    .dataframe tbody tr th {\n",
       "        vertical-align: top;\n",
       "    }\n",
       "\n",
       "    .dataframe thead th {\n",
       "        text-align: right;\n",
       "    }\n",
       "</style>\n",
       "<table border=\"1\" class=\"dataframe\">\n",
       "  <thead>\n",
       "    <tr style=\"text-align: right;\">\n",
       "      <th></th>\n",
       "      <th>Year</th>\n",
       "      <th>Distance</th>\n",
       "    </tr>\n",
       "  </thead>\n",
       "  <tbody>\n",
       "    <tr>\n",
       "      <th>count</th>\n",
       "      <td>2061.000000</td>\n",
       "      <td>2061.000000</td>\n",
       "    </tr>\n",
       "    <tr>\n",
       "      <th>mean</th>\n",
       "      <td>2011.077147</td>\n",
       "      <td>96650.133916</td>\n",
       "    </tr>\n",
       "    <tr>\n",
       "      <th>std</th>\n",
       "      <td>4.964864</td>\n",
       "      <td>87473.957491</td>\n",
       "    </tr>\n",
       "    <tr>\n",
       "      <th>min</th>\n",
       "      <td>1982.000000</td>\n",
       "      <td>1.000000</td>\n",
       "    </tr>\n",
       "    <tr>\n",
       "      <th>25%</th>\n",
       "      <td>2008.000000</td>\n",
       "      <td>67415.000000</td>\n",
       "    </tr>\n",
       "    <tr>\n",
       "      <th>50%</th>\n",
       "      <td>2011.000000</td>\n",
       "      <td>82000.000000</td>\n",
       "    </tr>\n",
       "    <tr>\n",
       "      <th>75%</th>\n",
       "      <td>2014.000000</td>\n",
       "      <td>97000.000000</td>\n",
       "    </tr>\n",
       "    <tr>\n",
       "      <th>max</th>\n",
       "      <td>2022.000000</td>\n",
       "      <td>985216.000000</td>\n",
       "    </tr>\n",
       "  </tbody>\n",
       "</table>\n",
       "</div>"
      ],
      "text/plain": [
       "              Year       Distance\n",
       "count  2061.000000    2061.000000\n",
       "mean   2011.077147   96650.133916\n",
       "std       4.964864   87473.957491\n",
       "min    1982.000000       1.000000\n",
       "25%    2008.000000   67415.000000\n",
       "50%    2011.000000   82000.000000\n",
       "75%    2014.000000   97000.000000\n",
       "max    2022.000000  985216.000000"
      ]
     },
     "execution_count": 50,
     "metadata": {},
     "output_type": "execute_result"
    }
   ],
   "source": [
    "test.describe()"
   ]
  },
  {
   "cell_type": "code",
   "execution_count": 51,
   "id": "5f86ea26",
   "metadata": {},
   "outputs": [
    {
     "data": {
      "text/plain": [
       "<pandas.core.groupby.generic.DataFrameGroupBy object at 0x0000027BD08A67F0>"
      ]
     },
     "execution_count": 51,
     "metadata": {},
     "output_type": "execute_result"
    },
    {
     "data": {
      "text/plain": [
       "<pandas.core.groupby.generic.DataFrameGroupBy object at 0x0000027BD08A67F0>"
      ]
     },
     "execution_count": 51,
     "metadata": {},
     "output_type": "execute_result"
    }
   ],
   "source": [
    "car_grp = train.groupby(['Maker'])\n",
    "car_grp"
   ]
  },
  {
   "cell_type": "code",
   "execution_count": 52,
   "id": "db2c6795",
   "metadata": {},
   "outputs": [
    {
     "data": {
      "text/html": [
       "<div>\n",
       "<style scoped>\n",
       "    .dataframe tbody tr th:only-of-type {\n",
       "        vertical-align: middle;\n",
       "    }\n",
       "\n",
       "    .dataframe tbody tr th {\n",
       "        vertical-align: top;\n",
       "    }\n",
       "\n",
       "    .dataframe thead th {\n",
       "        text-align: right;\n",
       "    }\n",
       "</style>\n",
       "<table border=\"1\" class=\"dataframe\">\n",
       "  <thead>\n",
       "    <tr style=\"text-align: right;\">\n",
       "      <th></th>\n",
       "      <th>VehicleID</th>\n",
       "      <th>Location</th>\n",
       "      <th>Maker</th>\n",
       "      <th>Model</th>\n",
       "      <th>Year</th>\n",
       "      <th>Colour</th>\n",
       "      <th>Amount (Million Naira)</th>\n",
       "      <th>Type</th>\n",
       "      <th>Distance</th>\n",
       "    </tr>\n",
       "  </thead>\n",
       "  <tbody>\n",
       "    <tr>\n",
       "      <th>2</th>\n",
       "      <td>VHL19499</td>\n",
       "      <td>Lagos</td>\n",
       "      <td>Lexus</td>\n",
       "      <td>RX 350</td>\n",
       "      <td>2010.0</td>\n",
       "      <td>Red</td>\n",
       "      <td>9.20</td>\n",
       "      <td>Foreign Used</td>\n",
       "      <td>110852.0</td>\n",
       "    </tr>\n",
       "    <tr>\n",
       "      <th>6</th>\n",
       "      <td>VHL16314</td>\n",
       "      <td>Lagos</td>\n",
       "      <td>Lexus</td>\n",
       "      <td>LX 570 AWD</td>\n",
       "      <td>2011.0</td>\n",
       "      <td>Black</td>\n",
       "      <td>79.00</td>\n",
       "      <td>Foreign Used</td>\n",
       "      <td>80830.0</td>\n",
       "    </tr>\n",
       "    <tr>\n",
       "      <th>15</th>\n",
       "      <td>VHL14203</td>\n",
       "      <td>Lagos</td>\n",
       "      <td>Lexus</td>\n",
       "      <td>ES 350</td>\n",
       "      <td>2011.0</td>\n",
       "      <td>Blue</td>\n",
       "      <td>3.55</td>\n",
       "      <td>Nigerian Used</td>\n",
       "      <td>80830.0</td>\n",
       "    </tr>\n",
       "    <tr>\n",
       "      <th>18</th>\n",
       "      <td>VHL18666</td>\n",
       "      <td>Lagos</td>\n",
       "      <td>Lexus</td>\n",
       "      <td>RX 350 AWD</td>\n",
       "      <td>2011.0</td>\n",
       "      <td>Black</td>\n",
       "      <td>14.00</td>\n",
       "      <td>Foreign Used</td>\n",
       "      <td>80830.0</td>\n",
       "    </tr>\n",
       "    <tr>\n",
       "      <th>27</th>\n",
       "      <td>VHL10241</td>\n",
       "      <td>Lagos</td>\n",
       "      <td>Lexus</td>\n",
       "      <td>ES 350</td>\n",
       "      <td>2011.0</td>\n",
       "      <td>Gray</td>\n",
       "      <td>4.20</td>\n",
       "      <td>Foreign Used</td>\n",
       "      <td>85474.0</td>\n",
       "    </tr>\n",
       "    <tr>\n",
       "      <th>...</th>\n",
       "      <td>...</td>\n",
       "      <td>...</td>\n",
       "      <td>...</td>\n",
       "      <td>...</td>\n",
       "      <td>...</td>\n",
       "      <td>...</td>\n",
       "      <td>...</td>\n",
       "      <td>...</td>\n",
       "      <td>...</td>\n",
       "    </tr>\n",
       "    <tr>\n",
       "      <th>7176</th>\n",
       "      <td>VHL15677</td>\n",
       "      <td>Lagos</td>\n",
       "      <td>Lexus</td>\n",
       "      <td>RX 330 AWD</td>\n",
       "      <td>2011.0</td>\n",
       "      <td>Black</td>\n",
       "      <td>4.90</td>\n",
       "      <td>Foreign Used</td>\n",
       "      <td>80830.0</td>\n",
       "    </tr>\n",
       "    <tr>\n",
       "      <th>7177</th>\n",
       "      <td>VHL16611</td>\n",
       "      <td>Abuja</td>\n",
       "      <td>Lexus</td>\n",
       "      <td>RX 350</td>\n",
       "      <td>2011.0</td>\n",
       "      <td>Gray</td>\n",
       "      <td>9.00</td>\n",
       "      <td>Foreign Used</td>\n",
       "      <td>52525.0</td>\n",
       "    </tr>\n",
       "    <tr>\n",
       "      <th>7184</th>\n",
       "      <td>VHL12389</td>\n",
       "      <td>Lagos</td>\n",
       "      <td>Lexus</td>\n",
       "      <td>LX 570 (5 Seats) AWD</td>\n",
       "      <td>2011.0</td>\n",
       "      <td>Black</td>\n",
       "      <td>56.00</td>\n",
       "      <td>Foreign Used</td>\n",
       "      <td>33217.0</td>\n",
       "    </tr>\n",
       "    <tr>\n",
       "      <th>7193</th>\n",
       "      <td>VHL13713</td>\n",
       "      <td>Lagos</td>\n",
       "      <td>Lexus</td>\n",
       "      <td>GX</td>\n",
       "      <td>2011.0</td>\n",
       "      <td>Blue</td>\n",
       "      <td>6.55</td>\n",
       "      <td>Foreign Used</td>\n",
       "      <td>89635.0</td>\n",
       "    </tr>\n",
       "    <tr>\n",
       "      <th>7197</th>\n",
       "      <td>VHL18453</td>\n",
       "      <td>Lagos</td>\n",
       "      <td>Lexus</td>\n",
       "      <td>RX</td>\n",
       "      <td>2011.0</td>\n",
       "      <td>Black</td>\n",
       "      <td>5.00</td>\n",
       "      <td>Foreign Used</td>\n",
       "      <td>30000.0</td>\n",
       "    </tr>\n",
       "  </tbody>\n",
       "</table>\n",
       "<p>1599 rows × 9 columns</p>\n",
       "</div>"
      ],
      "text/plain": [
       "     VehicleID Location  Maker                 Model    Year Colour  \\\n",
       "2     VHL19499    Lagos  Lexus                RX 350  2010.0    Red   \n",
       "6     VHL16314    Lagos  Lexus            LX 570 AWD  2011.0  Black   \n",
       "15    VHL14203    Lagos  Lexus                ES 350  2011.0   Blue   \n",
       "18    VHL18666    Lagos  Lexus            RX 350 AWD  2011.0  Black   \n",
       "27    VHL10241    Lagos  Lexus                ES 350  2011.0   Gray   \n",
       "...        ...      ...    ...                   ...     ...    ...   \n",
       "7176  VHL15677    Lagos  Lexus            RX 330 AWD  2011.0  Black   \n",
       "7177  VHL16611    Abuja  Lexus                RX 350  2011.0   Gray   \n",
       "7184  VHL12389    Lagos  Lexus  LX 570 (5 Seats) AWD  2011.0  Black   \n",
       "7193  VHL13713    Lagos  Lexus                    GX  2011.0   Blue   \n",
       "7197  VHL18453    Lagos  Lexus                    RX  2011.0  Black   \n",
       "\n",
       "      Amount (Million Naira)           Type  Distance  \n",
       "2                       9.20   Foreign Used  110852.0  \n",
       "6                      79.00   Foreign Used   80830.0  \n",
       "15                      3.55  Nigerian Used   80830.0  \n",
       "18                     14.00   Foreign Used   80830.0  \n",
       "27                      4.20   Foreign Used   85474.0  \n",
       "...                      ...            ...       ...  \n",
       "7176                    4.90   Foreign Used   80830.0  \n",
       "7177                    9.00   Foreign Used   52525.0  \n",
       "7184                   56.00   Foreign Used   33217.0  \n",
       "7193                    6.55   Foreign Used   89635.0  \n",
       "7197                    5.00   Foreign Used   30000.0  \n",
       "\n",
       "[1599 rows x 9 columns]"
      ]
     },
     "execution_count": 52,
     "metadata": {},
     "output_type": "execute_result"
    },
    {
     "data": {
      "text/html": [
       "<div>\n",
       "<style scoped>\n",
       "    .dataframe tbody tr th:only-of-type {\n",
       "        vertical-align: middle;\n",
       "    }\n",
       "\n",
       "    .dataframe tbody tr th {\n",
       "        vertical-align: top;\n",
       "    }\n",
       "\n",
       "    .dataframe thead th {\n",
       "        text-align: right;\n",
       "    }\n",
       "</style>\n",
       "<table border=\"1\" class=\"dataframe\">\n",
       "  <thead>\n",
       "    <tr style=\"text-align: right;\">\n",
       "      <th></th>\n",
       "      <th>VehicleID</th>\n",
       "      <th>Location</th>\n",
       "      <th>Maker</th>\n",
       "      <th>Model</th>\n",
       "      <th>Year</th>\n",
       "      <th>Colour</th>\n",
       "      <th>Amount (Million Naira)</th>\n",
       "      <th>Type</th>\n",
       "      <th>Distance</th>\n",
       "    </tr>\n",
       "  </thead>\n",
       "  <tbody>\n",
       "    <tr>\n",
       "      <th>2</th>\n",
       "      <td>VHL19499</td>\n",
       "      <td>Lagos</td>\n",
       "      <td>Lexus</td>\n",
       "      <td>RX 350</td>\n",
       "      <td>2010.0</td>\n",
       "      <td>Red</td>\n",
       "      <td>9.20</td>\n",
       "      <td>Foreign Used</td>\n",
       "      <td>110852.0</td>\n",
       "    </tr>\n",
       "    <tr>\n",
       "      <th>6</th>\n",
       "      <td>VHL16314</td>\n",
       "      <td>Lagos</td>\n",
       "      <td>Lexus</td>\n",
       "      <td>LX 570 AWD</td>\n",
       "      <td>2011.0</td>\n",
       "      <td>Black</td>\n",
       "      <td>79.00</td>\n",
       "      <td>Foreign Used</td>\n",
       "      <td>80830.0</td>\n",
       "    </tr>\n",
       "    <tr>\n",
       "      <th>15</th>\n",
       "      <td>VHL14203</td>\n",
       "      <td>Lagos</td>\n",
       "      <td>Lexus</td>\n",
       "      <td>ES 350</td>\n",
       "      <td>2011.0</td>\n",
       "      <td>Blue</td>\n",
       "      <td>3.55</td>\n",
       "      <td>Nigerian Used</td>\n",
       "      <td>80830.0</td>\n",
       "    </tr>\n",
       "    <tr>\n",
       "      <th>18</th>\n",
       "      <td>VHL18666</td>\n",
       "      <td>Lagos</td>\n",
       "      <td>Lexus</td>\n",
       "      <td>RX 350 AWD</td>\n",
       "      <td>2011.0</td>\n",
       "      <td>Black</td>\n",
       "      <td>14.00</td>\n",
       "      <td>Foreign Used</td>\n",
       "      <td>80830.0</td>\n",
       "    </tr>\n",
       "    <tr>\n",
       "      <th>27</th>\n",
       "      <td>VHL10241</td>\n",
       "      <td>Lagos</td>\n",
       "      <td>Lexus</td>\n",
       "      <td>ES 350</td>\n",
       "      <td>2011.0</td>\n",
       "      <td>Gray</td>\n",
       "      <td>4.20</td>\n",
       "      <td>Foreign Used</td>\n",
       "      <td>85474.0</td>\n",
       "    </tr>\n",
       "    <tr>\n",
       "      <th>...</th>\n",
       "      <td>...</td>\n",
       "      <td>...</td>\n",
       "      <td>...</td>\n",
       "      <td>...</td>\n",
       "      <td>...</td>\n",
       "      <td>...</td>\n",
       "      <td>...</td>\n",
       "      <td>...</td>\n",
       "      <td>...</td>\n",
       "    </tr>\n",
       "    <tr>\n",
       "      <th>7176</th>\n",
       "      <td>VHL15677</td>\n",
       "      <td>Lagos</td>\n",
       "      <td>Lexus</td>\n",
       "      <td>RX 330 AWD</td>\n",
       "      <td>2011.0</td>\n",
       "      <td>Black</td>\n",
       "      <td>4.90</td>\n",
       "      <td>Foreign Used</td>\n",
       "      <td>80830.0</td>\n",
       "    </tr>\n",
       "    <tr>\n",
       "      <th>7177</th>\n",
       "      <td>VHL16611</td>\n",
       "      <td>Abuja</td>\n",
       "      <td>Lexus</td>\n",
       "      <td>RX 350</td>\n",
       "      <td>2011.0</td>\n",
       "      <td>Gray</td>\n",
       "      <td>9.00</td>\n",
       "      <td>Foreign Used</td>\n",
       "      <td>52525.0</td>\n",
       "    </tr>\n",
       "    <tr>\n",
       "      <th>7184</th>\n",
       "      <td>VHL12389</td>\n",
       "      <td>Lagos</td>\n",
       "      <td>Lexus</td>\n",
       "      <td>LX 570 (5 Seats) AWD</td>\n",
       "      <td>2011.0</td>\n",
       "      <td>Black</td>\n",
       "      <td>56.00</td>\n",
       "      <td>Foreign Used</td>\n",
       "      <td>33217.0</td>\n",
       "    </tr>\n",
       "    <tr>\n",
       "      <th>7193</th>\n",
       "      <td>VHL13713</td>\n",
       "      <td>Lagos</td>\n",
       "      <td>Lexus</td>\n",
       "      <td>GX</td>\n",
       "      <td>2011.0</td>\n",
       "      <td>Blue</td>\n",
       "      <td>6.55</td>\n",
       "      <td>Foreign Used</td>\n",
       "      <td>89635.0</td>\n",
       "    </tr>\n",
       "    <tr>\n",
       "      <th>7197</th>\n",
       "      <td>VHL18453</td>\n",
       "      <td>Lagos</td>\n",
       "      <td>Lexus</td>\n",
       "      <td>RX</td>\n",
       "      <td>2011.0</td>\n",
       "      <td>Black</td>\n",
       "      <td>5.00</td>\n",
       "      <td>Foreign Used</td>\n",
       "      <td>30000.0</td>\n",
       "    </tr>\n",
       "  </tbody>\n",
       "</table>\n",
       "<p>1599 rows × 9 columns</p>\n",
       "</div>"
      ],
      "text/plain": [
       "     VehicleID Location  Maker                 Model    Year Colour  \\\n",
       "2     VHL19499    Lagos  Lexus                RX 350  2010.0    Red   \n",
       "6     VHL16314    Lagos  Lexus            LX 570 AWD  2011.0  Black   \n",
       "15    VHL14203    Lagos  Lexus                ES 350  2011.0   Blue   \n",
       "18    VHL18666    Lagos  Lexus            RX 350 AWD  2011.0  Black   \n",
       "27    VHL10241    Lagos  Lexus                ES 350  2011.0   Gray   \n",
       "...        ...      ...    ...                   ...     ...    ...   \n",
       "7176  VHL15677    Lagos  Lexus            RX 330 AWD  2011.0  Black   \n",
       "7177  VHL16611    Abuja  Lexus                RX 350  2011.0   Gray   \n",
       "7184  VHL12389    Lagos  Lexus  LX 570 (5 Seats) AWD  2011.0  Black   \n",
       "7193  VHL13713    Lagos  Lexus                    GX  2011.0   Blue   \n",
       "7197  VHL18453    Lagos  Lexus                    RX  2011.0  Black   \n",
       "\n",
       "      Amount (Million Naira)           Type  Distance  \n",
       "2                       9.20   Foreign Used  110852.0  \n",
       "6                      79.00   Foreign Used   80830.0  \n",
       "15                      3.55  Nigerian Used   80830.0  \n",
       "18                     14.00   Foreign Used   80830.0  \n",
       "27                      4.20   Foreign Used   85474.0  \n",
       "...                      ...            ...       ...  \n",
       "7176                    4.90   Foreign Used   80830.0  \n",
       "7177                    9.00   Foreign Used   52525.0  \n",
       "7184                   56.00   Foreign Used   33217.0  \n",
       "7193                    6.55   Foreign Used   89635.0  \n",
       "7197                    5.00   Foreign Used   30000.0  \n",
       "\n",
       "[1599 rows x 9 columns]"
      ]
     },
     "execution_count": 52,
     "metadata": {},
     "output_type": "execute_result"
    }
   ],
   "source": [
    "car_grp.get_group('Lexus')"
   ]
  },
  {
   "cell_type": "code",
   "execution_count": 53,
   "id": "5284bdf2",
   "metadata": {},
   "outputs": [
    {
     "name": "stdout",
     "output_type": "stream",
     "text": [
      "     VehicleID Location        Maker                Model    Year Colour  \\\n",
      "1577  VHL15837    Abuja  Rolls-Royce  Rolls-Royce Phantom  2011.0   Gray   \n",
      "\n",
      "      Amount (Million Naira)       Type  Distance  \n",
      "1577                   456.0  Brand New   80830.0  \n",
      "     VehicleID Location        Maker                Model    Year Colour  \\\n",
      "1577  VHL15837    Abuja  Rolls-Royce  Rolls-Royce Phantom  2011.0   Gray   \n",
      "\n",
      "      Amount (Million Naira)       Type  Distance  \n",
      "1577                   456.0  Brand New   80830.0  \n"
     ]
    }
   ],
   "source": [
    "print(train.loc[train['Amount (Million Naira)']==456.0])\n"
   ]
  },
  {
   "cell_type": "code",
   "execution_count": 54,
   "id": "9fe2379f",
   "metadata": {},
   "outputs": [
    {
     "name": "stdout",
     "output_type": "stream",
     "text": [
      "     VehicleID Location       Maker Model    Year  Colour  \\\n",
      "1428  VHL10434    Lagos  Volkswagen  Golf  2011.0  Silver   \n",
      "\n",
      "      Amount (Million Naira)           Type  Distance  \n",
      "1428                    0.45  Nigerian Used  123143.0  \n",
      "     VehicleID Location       Maker Model    Year  Colour  \\\n",
      "1428  VHL10434    Lagos  Volkswagen  Golf  2011.0  Silver   \n",
      "\n",
      "      Amount (Million Naira)           Type  Distance  \n",
      "1428                    0.45  Nigerian Used  123143.0  \n"
     ]
    }
   ],
   "source": [
    "print(train.loc[train['Amount (Million Naira)']==0.450])"
   ]
  },
  {
   "cell_type": "code",
   "execution_count": 55,
   "id": "405e25db",
   "metadata": {},
   "outputs": [
    {
     "data": {
      "text/html": [
       "<div>\n",
       "<style scoped>\n",
       "    .dataframe tbody tr th:only-of-type {\n",
       "        vertical-align: middle;\n",
       "    }\n",
       "\n",
       "    .dataframe tbody tr th {\n",
       "        vertical-align: top;\n",
       "    }\n",
       "\n",
       "    .dataframe thead th {\n",
       "        text-align: right;\n",
       "    }\n",
       "</style>\n",
       "<table border=\"1\" class=\"dataframe\">\n",
       "  <thead>\n",
       "    <tr style=\"text-align: right;\">\n",
       "      <th></th>\n",
       "      <th>VehicleID</th>\n",
       "      <th>Location</th>\n",
       "      <th>Maker</th>\n",
       "      <th>Model</th>\n",
       "      <th>Year</th>\n",
       "      <th>Colour</th>\n",
       "      <th>Amount (Million Naira)</th>\n",
       "      <th>Type</th>\n",
       "      <th>Distance</th>\n",
       "    </tr>\n",
       "  </thead>\n",
       "  <tbody>\n",
       "    <tr>\n",
       "      <th>1071</th>\n",
       "      <td>VHL11905</td>\n",
       "      <td>Abuja</td>\n",
       "      <td>Ferrari</td>\n",
       "      <td>FF</td>\n",
       "      <td>2011.0</td>\n",
       "      <td>Black</td>\n",
       "      <td>95.0</td>\n",
       "      <td>Foreign Used</td>\n",
       "      <td>80830.0</td>\n",
       "    </tr>\n",
       "  </tbody>\n",
       "</table>\n",
       "</div>"
      ],
      "text/plain": [
       "     VehicleID Location    Maker Model    Year Colour  Amount (Million Naira)  \\\n",
       "1071  VHL11905    Abuja  Ferrari    FF  2011.0  Black                    95.0   \n",
       "\n",
       "              Type  Distance  \n",
       "1071  Foreign Used   80830.0  "
      ]
     },
     "execution_count": 55,
     "metadata": {},
     "output_type": "execute_result"
    },
    {
     "data": {
      "text/html": [
       "<div>\n",
       "<style scoped>\n",
       "    .dataframe tbody tr th:only-of-type {\n",
       "        vertical-align: middle;\n",
       "    }\n",
       "\n",
       "    .dataframe tbody tr th {\n",
       "        vertical-align: top;\n",
       "    }\n",
       "\n",
       "    .dataframe thead th {\n",
       "        text-align: right;\n",
       "    }\n",
       "</style>\n",
       "<table border=\"1\" class=\"dataframe\">\n",
       "  <thead>\n",
       "    <tr style=\"text-align: right;\">\n",
       "      <th></th>\n",
       "      <th>VehicleID</th>\n",
       "      <th>Location</th>\n",
       "      <th>Maker</th>\n",
       "      <th>Model</th>\n",
       "      <th>Year</th>\n",
       "      <th>Colour</th>\n",
       "      <th>Amount (Million Naira)</th>\n",
       "      <th>Type</th>\n",
       "      <th>Distance</th>\n",
       "    </tr>\n",
       "  </thead>\n",
       "  <tbody>\n",
       "    <tr>\n",
       "      <th>1071</th>\n",
       "      <td>VHL11905</td>\n",
       "      <td>Abuja</td>\n",
       "      <td>Ferrari</td>\n",
       "      <td>FF</td>\n",
       "      <td>2011.0</td>\n",
       "      <td>Black</td>\n",
       "      <td>95.0</td>\n",
       "      <td>Foreign Used</td>\n",
       "      <td>80830.0</td>\n",
       "    </tr>\n",
       "  </tbody>\n",
       "</table>\n",
       "</div>"
      ],
      "text/plain": [
       "     VehicleID Location    Maker Model    Year Colour  Amount (Million Naira)  \\\n",
       "1071  VHL11905    Abuja  Ferrari    FF  2011.0  Black                    95.0   \n",
       "\n",
       "              Type  Distance  \n",
       "1071  Foreign Used   80830.0  "
      ]
     },
     "execution_count": 55,
     "metadata": {},
     "output_type": "execute_result"
    }
   ],
   "source": [
    "car_grp.get_group('Ferrari')"
   ]
  },
  {
   "cell_type": "code",
   "execution_count": 56,
   "id": "6d2016e5",
   "metadata": {},
   "outputs": [
    {
     "data": {
      "text/html": [
       "<div>\n",
       "<style scoped>\n",
       "    .dataframe tbody tr th:only-of-type {\n",
       "        vertical-align: middle;\n",
       "    }\n",
       "\n",
       "    .dataframe tbody tr th {\n",
       "        vertical-align: top;\n",
       "    }\n",
       "\n",
       "    .dataframe thead th {\n",
       "        text-align: right;\n",
       "    }\n",
       "</style>\n",
       "<table border=\"1\" class=\"dataframe\">\n",
       "  <thead>\n",
       "    <tr style=\"text-align: right;\">\n",
       "      <th></th>\n",
       "      <th>VehicleID</th>\n",
       "      <th>Location</th>\n",
       "      <th>Maker</th>\n",
       "      <th>Model</th>\n",
       "      <th>Year</th>\n",
       "      <th>Colour</th>\n",
       "      <th>Amount (Million Naira)</th>\n",
       "      <th>Type</th>\n",
       "      <th>Distance</th>\n",
       "    </tr>\n",
       "  </thead>\n",
       "  <tbody>\n",
       "    <tr>\n",
       "      <th>1234</th>\n",
       "      <td>VHL19383</td>\n",
       "      <td>Abuja</td>\n",
       "      <td>Rolls-Royce</td>\n",
       "      <td>Phantom Coupe</td>\n",
       "      <td>2011.0</td>\n",
       "      <td>Blue</td>\n",
       "      <td>120.0</td>\n",
       "      <td>Foreign Used</td>\n",
       "      <td>31000.0</td>\n",
       "    </tr>\n",
       "    <tr>\n",
       "      <th>1577</th>\n",
       "      <td>VHL15837</td>\n",
       "      <td>Abuja</td>\n",
       "      <td>Rolls-Royce</td>\n",
       "      <td>Rolls-Royce Phantom</td>\n",
       "      <td>2011.0</td>\n",
       "      <td>Gray</td>\n",
       "      <td>456.0</td>\n",
       "      <td>Brand New</td>\n",
       "      <td>80830.0</td>\n",
       "    </tr>\n",
       "    <tr>\n",
       "      <th>1713</th>\n",
       "      <td>VHL17982</td>\n",
       "      <td>Abuja</td>\n",
       "      <td>Rolls-Royce</td>\n",
       "      <td>Ghost Base EWB</td>\n",
       "      <td>2011.0</td>\n",
       "      <td>Gray</td>\n",
       "      <td>240.0</td>\n",
       "      <td>Foreign Used</td>\n",
       "      <td>26400.0</td>\n",
       "    </tr>\n",
       "    <tr>\n",
       "      <th>3474</th>\n",
       "      <td>VHL10352</td>\n",
       "      <td>Abuja</td>\n",
       "      <td>Rolls-Royce</td>\n",
       "      <td>Rolls-Royce Cullinan Base</td>\n",
       "      <td>2011.0</td>\n",
       "      <td>Black</td>\n",
       "      <td>444.0</td>\n",
       "      <td>Brand New</td>\n",
       "      <td>80830.0</td>\n",
       "    </tr>\n",
       "    <tr>\n",
       "      <th>4046</th>\n",
       "      <td>VHL11297</td>\n",
       "      <td>Abuja</td>\n",
       "      <td>Rolls-Royce</td>\n",
       "      <td>Rolls-Royce Phantom</td>\n",
       "      <td>2011.0</td>\n",
       "      <td>White</td>\n",
       "      <td>450.0</td>\n",
       "      <td>Brand New</td>\n",
       "      <td>80830.0</td>\n",
       "    </tr>\n",
       "    <tr>\n",
       "      <th>4914</th>\n",
       "      <td>VHL19719</td>\n",
       "      <td>Abuja</td>\n",
       "      <td>Rolls-Royce</td>\n",
       "      <td>Phantom Base EWB</td>\n",
       "      <td>2011.0</td>\n",
       "      <td>Red</td>\n",
       "      <td>380.0</td>\n",
       "      <td>Foreign Used</td>\n",
       "      <td>10500.0</td>\n",
       "    </tr>\n",
       "    <tr>\n",
       "      <th>5145</th>\n",
       "      <td>VHL19098</td>\n",
       "      <td>Abuja</td>\n",
       "      <td>Rolls-Royce</td>\n",
       "      <td>Rolls-Royce Phantom</td>\n",
       "      <td>2011.0</td>\n",
       "      <td>Brown</td>\n",
       "      <td>430.0</td>\n",
       "      <td>Brand New</td>\n",
       "      <td>4000.0</td>\n",
       "    </tr>\n",
       "    <tr>\n",
       "      <th>5247</th>\n",
       "      <td>VHL17959</td>\n",
       "      <td>Abuja</td>\n",
       "      <td>Rolls-Royce</td>\n",
       "      <td>Rolls-Royce Ghost</td>\n",
       "      <td>2011.0</td>\n",
       "      <td>Green</td>\n",
       "      <td>454.0</td>\n",
       "      <td>Brand New</td>\n",
       "      <td>80830.0</td>\n",
       "    </tr>\n",
       "    <tr>\n",
       "      <th>5527</th>\n",
       "      <td>VHL15407</td>\n",
       "      <td>Abuja</td>\n",
       "      <td>Rolls-Royce</td>\n",
       "      <td>Rolls-Royce Ghost</td>\n",
       "      <td>2011.0</td>\n",
       "      <td>White</td>\n",
       "      <td>450.0</td>\n",
       "      <td>Brand New</td>\n",
       "      <td>80830.0</td>\n",
       "    </tr>\n",
       "    <tr>\n",
       "      <th>5908</th>\n",
       "      <td>VHL15076</td>\n",
       "      <td>Abuja</td>\n",
       "      <td>Rolls-Royce</td>\n",
       "      <td>Wraith 6.6 RWD</td>\n",
       "      <td>2011.0</td>\n",
       "      <td>Black</td>\n",
       "      <td>185.0</td>\n",
       "      <td>Foreign Used</td>\n",
       "      <td>80830.0</td>\n",
       "    </tr>\n",
       "  </tbody>\n",
       "</table>\n",
       "</div>"
      ],
      "text/plain": [
       "     VehicleID Location        Maker                      Model    Year  \\\n",
       "1234  VHL19383    Abuja  Rolls-Royce              Phantom Coupe  2011.0   \n",
       "1577  VHL15837    Abuja  Rolls-Royce        Rolls-Royce Phantom  2011.0   \n",
       "1713  VHL17982    Abuja  Rolls-Royce             Ghost Base EWB  2011.0   \n",
       "3474  VHL10352    Abuja  Rolls-Royce  Rolls-Royce Cullinan Base  2011.0   \n",
       "4046  VHL11297    Abuja  Rolls-Royce        Rolls-Royce Phantom  2011.0   \n",
       "4914  VHL19719    Abuja  Rolls-Royce           Phantom Base EWB  2011.0   \n",
       "5145  VHL19098    Abuja  Rolls-Royce        Rolls-Royce Phantom  2011.0   \n",
       "5247  VHL17959    Abuja  Rolls-Royce          Rolls-Royce Ghost  2011.0   \n",
       "5527  VHL15407    Abuja  Rolls-Royce          Rolls-Royce Ghost  2011.0   \n",
       "5908  VHL15076    Abuja  Rolls-Royce             Wraith 6.6 RWD  2011.0   \n",
       "\n",
       "     Colour  Amount (Million Naira)          Type  Distance  \n",
       "1234   Blue                   120.0  Foreign Used   31000.0  \n",
       "1577   Gray                   456.0     Brand New   80830.0  \n",
       "1713   Gray                   240.0  Foreign Used   26400.0  \n",
       "3474  Black                   444.0     Brand New   80830.0  \n",
       "4046  White                   450.0     Brand New   80830.0  \n",
       "4914    Red                   380.0  Foreign Used   10500.0  \n",
       "5145  Brown                   430.0     Brand New    4000.0  \n",
       "5247  Green                   454.0     Brand New   80830.0  \n",
       "5527  White                   450.0     Brand New   80830.0  \n",
       "5908  Black                   185.0  Foreign Used   80830.0  "
      ]
     },
     "execution_count": 56,
     "metadata": {},
     "output_type": "execute_result"
    },
    {
     "data": {
      "text/html": [
       "<div>\n",
       "<style scoped>\n",
       "    .dataframe tbody tr th:only-of-type {\n",
       "        vertical-align: middle;\n",
       "    }\n",
       "\n",
       "    .dataframe tbody tr th {\n",
       "        vertical-align: top;\n",
       "    }\n",
       "\n",
       "    .dataframe thead th {\n",
       "        text-align: right;\n",
       "    }\n",
       "</style>\n",
       "<table border=\"1\" class=\"dataframe\">\n",
       "  <thead>\n",
       "    <tr style=\"text-align: right;\">\n",
       "      <th></th>\n",
       "      <th>VehicleID</th>\n",
       "      <th>Location</th>\n",
       "      <th>Maker</th>\n",
       "      <th>Model</th>\n",
       "      <th>Year</th>\n",
       "      <th>Colour</th>\n",
       "      <th>Amount (Million Naira)</th>\n",
       "      <th>Type</th>\n",
       "      <th>Distance</th>\n",
       "    </tr>\n",
       "  </thead>\n",
       "  <tbody>\n",
       "    <tr>\n",
       "      <th>1234</th>\n",
       "      <td>VHL19383</td>\n",
       "      <td>Abuja</td>\n",
       "      <td>Rolls-Royce</td>\n",
       "      <td>Phantom Coupe</td>\n",
       "      <td>2011.0</td>\n",
       "      <td>Blue</td>\n",
       "      <td>120.0</td>\n",
       "      <td>Foreign Used</td>\n",
       "      <td>31000.0</td>\n",
       "    </tr>\n",
       "    <tr>\n",
       "      <th>1577</th>\n",
       "      <td>VHL15837</td>\n",
       "      <td>Abuja</td>\n",
       "      <td>Rolls-Royce</td>\n",
       "      <td>Rolls-Royce Phantom</td>\n",
       "      <td>2011.0</td>\n",
       "      <td>Gray</td>\n",
       "      <td>456.0</td>\n",
       "      <td>Brand New</td>\n",
       "      <td>80830.0</td>\n",
       "    </tr>\n",
       "    <tr>\n",
       "      <th>1713</th>\n",
       "      <td>VHL17982</td>\n",
       "      <td>Abuja</td>\n",
       "      <td>Rolls-Royce</td>\n",
       "      <td>Ghost Base EWB</td>\n",
       "      <td>2011.0</td>\n",
       "      <td>Gray</td>\n",
       "      <td>240.0</td>\n",
       "      <td>Foreign Used</td>\n",
       "      <td>26400.0</td>\n",
       "    </tr>\n",
       "    <tr>\n",
       "      <th>3474</th>\n",
       "      <td>VHL10352</td>\n",
       "      <td>Abuja</td>\n",
       "      <td>Rolls-Royce</td>\n",
       "      <td>Rolls-Royce Cullinan Base</td>\n",
       "      <td>2011.0</td>\n",
       "      <td>Black</td>\n",
       "      <td>444.0</td>\n",
       "      <td>Brand New</td>\n",
       "      <td>80830.0</td>\n",
       "    </tr>\n",
       "    <tr>\n",
       "      <th>4046</th>\n",
       "      <td>VHL11297</td>\n",
       "      <td>Abuja</td>\n",
       "      <td>Rolls-Royce</td>\n",
       "      <td>Rolls-Royce Phantom</td>\n",
       "      <td>2011.0</td>\n",
       "      <td>White</td>\n",
       "      <td>450.0</td>\n",
       "      <td>Brand New</td>\n",
       "      <td>80830.0</td>\n",
       "    </tr>\n",
       "    <tr>\n",
       "      <th>4914</th>\n",
       "      <td>VHL19719</td>\n",
       "      <td>Abuja</td>\n",
       "      <td>Rolls-Royce</td>\n",
       "      <td>Phantom Base EWB</td>\n",
       "      <td>2011.0</td>\n",
       "      <td>Red</td>\n",
       "      <td>380.0</td>\n",
       "      <td>Foreign Used</td>\n",
       "      <td>10500.0</td>\n",
       "    </tr>\n",
       "    <tr>\n",
       "      <th>5145</th>\n",
       "      <td>VHL19098</td>\n",
       "      <td>Abuja</td>\n",
       "      <td>Rolls-Royce</td>\n",
       "      <td>Rolls-Royce Phantom</td>\n",
       "      <td>2011.0</td>\n",
       "      <td>Brown</td>\n",
       "      <td>430.0</td>\n",
       "      <td>Brand New</td>\n",
       "      <td>4000.0</td>\n",
       "    </tr>\n",
       "    <tr>\n",
       "      <th>5247</th>\n",
       "      <td>VHL17959</td>\n",
       "      <td>Abuja</td>\n",
       "      <td>Rolls-Royce</td>\n",
       "      <td>Rolls-Royce Ghost</td>\n",
       "      <td>2011.0</td>\n",
       "      <td>Green</td>\n",
       "      <td>454.0</td>\n",
       "      <td>Brand New</td>\n",
       "      <td>80830.0</td>\n",
       "    </tr>\n",
       "    <tr>\n",
       "      <th>5527</th>\n",
       "      <td>VHL15407</td>\n",
       "      <td>Abuja</td>\n",
       "      <td>Rolls-Royce</td>\n",
       "      <td>Rolls-Royce Ghost</td>\n",
       "      <td>2011.0</td>\n",
       "      <td>White</td>\n",
       "      <td>450.0</td>\n",
       "      <td>Brand New</td>\n",
       "      <td>80830.0</td>\n",
       "    </tr>\n",
       "    <tr>\n",
       "      <th>5908</th>\n",
       "      <td>VHL15076</td>\n",
       "      <td>Abuja</td>\n",
       "      <td>Rolls-Royce</td>\n",
       "      <td>Wraith 6.6 RWD</td>\n",
       "      <td>2011.0</td>\n",
       "      <td>Black</td>\n",
       "      <td>185.0</td>\n",
       "      <td>Foreign Used</td>\n",
       "      <td>80830.0</td>\n",
       "    </tr>\n",
       "  </tbody>\n",
       "</table>\n",
       "</div>"
      ],
      "text/plain": [
       "     VehicleID Location        Maker                      Model    Year  \\\n",
       "1234  VHL19383    Abuja  Rolls-Royce              Phantom Coupe  2011.0   \n",
       "1577  VHL15837    Abuja  Rolls-Royce        Rolls-Royce Phantom  2011.0   \n",
       "1713  VHL17982    Abuja  Rolls-Royce             Ghost Base EWB  2011.0   \n",
       "3474  VHL10352    Abuja  Rolls-Royce  Rolls-Royce Cullinan Base  2011.0   \n",
       "4046  VHL11297    Abuja  Rolls-Royce        Rolls-Royce Phantom  2011.0   \n",
       "4914  VHL19719    Abuja  Rolls-Royce           Phantom Base EWB  2011.0   \n",
       "5145  VHL19098    Abuja  Rolls-Royce        Rolls-Royce Phantom  2011.0   \n",
       "5247  VHL17959    Abuja  Rolls-Royce          Rolls-Royce Ghost  2011.0   \n",
       "5527  VHL15407    Abuja  Rolls-Royce          Rolls-Royce Ghost  2011.0   \n",
       "5908  VHL15076    Abuja  Rolls-Royce             Wraith 6.6 RWD  2011.0   \n",
       "\n",
       "     Colour  Amount (Million Naira)          Type  Distance  \n",
       "1234   Blue                   120.0  Foreign Used   31000.0  \n",
       "1577   Gray                   456.0     Brand New   80830.0  \n",
       "1713   Gray                   240.0  Foreign Used   26400.0  \n",
       "3474  Black                   444.0     Brand New   80830.0  \n",
       "4046  White                   450.0     Brand New   80830.0  \n",
       "4914    Red                   380.0  Foreign Used   10500.0  \n",
       "5145  Brown                   430.0     Brand New    4000.0  \n",
       "5247  Green                   454.0     Brand New   80830.0  \n",
       "5527  White                   450.0     Brand New   80830.0  \n",
       "5908  Black                   185.0  Foreign Used   80830.0  "
      ]
     },
     "execution_count": 56,
     "metadata": {},
     "output_type": "execute_result"
    }
   ],
   "source": [
    "car_grp.get_group('Rolls-Royce')"
   ]
  },
  {
   "cell_type": "code",
   "execution_count": 57,
   "id": "b560fdc1",
   "metadata": {},
   "outputs": [
    {
     "data": {
      "text/plain": [
       "VehicleID                 0\n",
       "Location                  0\n",
       "Maker                     0\n",
       "Model                     0\n",
       "Year                      0\n",
       "Colour                    0\n",
       "Amount (Million Naira)    0\n",
       "Type                      0\n",
       "Distance                  0\n",
       "dtype: int64"
      ]
     },
     "execution_count": 57,
     "metadata": {},
     "output_type": "execute_result"
    },
    {
     "data": {
      "text/plain": [
       "VehicleID                 0\n",
       "Location                  0\n",
       "Maker                     0\n",
       "Model                     0\n",
       "Year                      0\n",
       "Colour                    0\n",
       "Amount (Million Naira)    0\n",
       "Type                      0\n",
       "Distance                  0\n",
       "dtype: int64"
      ]
     },
     "execution_count": 57,
     "metadata": {},
     "output_type": "execute_result"
    }
   ],
   "source": [
    "train.isnull().sum()"
   ]
  },
  {
   "cell_type": "code",
   "execution_count": 58,
   "id": "0de1eec1",
   "metadata": {},
   "outputs": [
    {
     "data": {
      "text/plain": [
       "VehicleID    0\n",
       "Location     0\n",
       "Maker        0\n",
       "Model        0\n",
       "Year         0\n",
       "Colour       0\n",
       "Type         0\n",
       "Distance     0\n",
       "dtype: int64"
      ]
     },
     "execution_count": 58,
     "metadata": {},
     "output_type": "execute_result"
    },
    {
     "data": {
      "text/plain": [
       "VehicleID    0\n",
       "Location     0\n",
       "Maker        0\n",
       "Model        0\n",
       "Year         0\n",
       "Colour       0\n",
       "Type         0\n",
       "Distance     0\n",
       "dtype: int64"
      ]
     },
     "execution_count": 58,
     "metadata": {},
     "output_type": "execute_result"
    }
   ],
   "source": [
    "test.isnull().sum()"
   ]
  },
  {
   "cell_type": "code",
   "execution_count": 59,
   "id": "834cce44",
   "metadata": {},
   "outputs": [
    {
     "data": {
      "image/png": "[encoded data removed]",
      "text/plain": [
       "<Figure size 720x432 with 1 Axes>"
      ]
     },
     "metadata": {},
     "output_type": "display_data"
    },
    {
     "data": {
      "image/png": "[encoded data removed]",
      "text/plain": [
       "<Figure size 720x432 with 1 Axes>"
      ]
     },
     "metadata": {},
     "output_type": "display_data"
    }
   ],
   "source": [
    "plt.figure(figsize=(10,6))\n",
    "train['Colour'].value_counts().plot(kind='bar',color='darkblue');\n",
    "plt.title('Car Colours Plot',fontweight='bold',fontsize=16);"
   ]
  },
  {
   "cell_type": "code",
   "execution_count": 60,
   "id": "bb176143",
   "metadata": {},
   "outputs": [],
   "source": [
    "train.drop(columns=['VehicleID'],inplace=True)"
   ]
  },
  {
   "cell_type": "code",
   "execution_count": 61,
   "id": "0190e328",
   "metadata": {},
   "outputs": [],
   "source": [
    "test.drop(columns=['VehicleID'],inplace=True)"
   ]
  },
  {
   "cell_type": "code",
   "execution_count": 62,
   "id": "77dd5b4f",
   "metadata": {},
   "outputs": [],
   "source": [
    "train['Location'] = train['Location'].astype('category')\n",
    "train['Maker'] = train['Maker'].astype('category')\n",
    "train['Model']  = train['Model'].astype('category')\n",
    "train['Colour'] = train['Colour'].astype('category')\n",
    "train['Type'] = train['Type'].astype('category')"
   ]
  },
  {
   "cell_type": "code",
   "execution_count": 63,
   "id": "7ca77c3c",
   "metadata": {},
   "outputs": [],
   "source": [
    "train['Location'] = train['Location'].cat.codes\n",
    "train['Maker'] = train['Maker'].cat.codes\n",
    "train['Model'] = train['Model'].cat.codes\n",
    "train['Colour'] = train['Colour'].cat.codes\n",
    "train['Type'] = train['Type'].cat.codes"
   ]
  },
  {
   "cell_type": "code",
   "execution_count": 64,
   "id": "dbceef6b",
   "metadata": {},
   "outputs": [
    {
     "data": {
      "text/plain": [
       "Location                   int8\n",
       "Maker                      int8\n",
       "Model                     int16\n",
       "Year                      int32\n",
       "Colour                     int8\n",
       "Amount (Million Naira)    int32\n",
       "Type                       int8\n",
       "Distance                  int32\n",
       "dtype: object"
      ]
     },
     "execution_count": 64,
     "metadata": {},
     "output_type": "execute_result"
    },
    {
     "data": {
      "text/plain": [
       "Location                   int8\n",
       "Maker                      int8\n",
       "Model                     int16\n",
       "Year                      int32\n",
       "Colour                     int8\n",
       "Amount (Million Naira)    int32\n",
       "Type                       int8\n",
       "Distance                  int32\n",
       "dtype: object"
      ]
     },
     "execution_count": 64,
     "metadata": {},
     "output_type": "execute_result"
    }
   ],
   "source": [
    "train['Year'] = train['Year'].astype(int)\n",
    "train['Amount (Million Naira)'] = train['Amount (Million Naira)'].astype(int)\n",
    "train['Distance'] = train['Distance'].astype(int)\n",
    "\n",
    "train.dtypes"
   ]
  },
  {
   "cell_type": "code",
   "execution_count": 65,
   "id": "305c6d1c",
   "metadata": {},
   "outputs": [],
   "source": [
    "test['Location'] = test['Location'].astype('category')\n",
    "test['Maker'] = test['Maker'].astype('category')\n",
    "test['Model']  = test['Model'].astype('category')\n",
    "test['Colour'] = test['Colour'].astype('category')\n",
    "test['Type'] = test['Type'].astype('category')"
   ]
  },
  {
   "cell_type": "code",
   "execution_count": 66,
   "id": "9f56823c",
   "metadata": {},
   "outputs": [],
   "source": [
    "test['Location'] = test['Location'].cat.codes\n",
    "test['Maker'] = test['Maker'].cat.codes\n",
    "test['Model'] = test['Model'].cat.codes\n",
    "test['Colour'] = test['Colour'].cat.codes\n",
    "test['Type'] = test['Type'].cat.codes"
   ]
  },
  {
   "cell_type": "code",
   "execution_count": 67,
   "id": "ea459ecb",
   "metadata": {},
   "outputs": [
    {
     "data": {
      "text/plain": [
       "Location     int8\n",
       "Maker        int8\n",
       "Model       int16\n",
       "Year        int32\n",
       "Colour       int8\n",
       "Type         int8\n",
       "Distance    int32\n",
       "dtype: object"
      ]
     },
     "execution_count": 67,
     "metadata": {},
     "output_type": "execute_result"
    },
    {
     "data": {
      "text/plain": [
       "Location     int8\n",
       "Maker        int8\n",
       "Model       int16\n",
       "Year        int32\n",
       "Colour       int8\n",
       "Type         int8\n",
       "Distance    int32\n",
       "dtype: object"
      ]
     },
     "execution_count": 67,
     "metadata": {},
     "output_type": "execute_result"
    }
   ],
   "source": [
    "test['Distance']= test['Distance'].astype(int)\n",
    "test['Year']= test['Year'].astype(int)\n",
    "\n",
    "test.dtypes"
   ]
  },
  {
   "cell_type": "code",
   "execution_count": 68,
   "id": "1caa0c38",
   "metadata": {},
   "outputs": [
    {
     "data": {
      "image/png": "[encoded data removed]",
      "text/plain": [
       "<Figure size 720x432 with 2 Axes>"
      ]
     },
     "metadata": {},
     "output_type": "display_data"
    },
    {
     "data": {
      "image/png": "[encoded data removed]",
      "text/plain": [
       "<Figure size 720x432 with 2 Axes>"
      ]
     },
     "metadata": {},
     "output_type": "display_data"
    }
   ],
   "source": [
    "plt.figure(figsize=(10,6))\n",
    "train.corr()\n",
    "sns.heatmap(train.corr(),cmap='turbo',annot=True);"
   ]
  },
  {
   "cell_type": "code",
   "execution_count": 69,
   "id": "e77c10b8",
   "metadata": {},
   "outputs": [
    {
     "data": {
      "image/png": "[encoded data removed]",
      "text/plain": [
       "<Figure size 720x432 with 2 Axes>"
      ]
     },
     "metadata": {},
     "output_type": "display_data"
    },
    {
     "data": {
      "image/png": "[encoded data removed]",
      "text/plain": [
       "<Figure size 720x432 with 2 Axes>"
      ]
     },
     "metadata": {},
     "output_type": "display_data"
    }
   ],
   "source": [
    "plt.figure(figsize=(10,6))\n",
    "test.corr()\n",
    "sns.heatmap(test.corr(),cmap='turbo_r',annot=True);"
   ]
  },
  {
   "cell_type": "code",
   "execution_count": 70,
   "id": "99593e7f",
   "metadata": {},
   "outputs": [],
   "source": [
    "y = train['Amount (Million Naira)'].values\n",
    "X = train.drop(columns=['Amount (Million Naira)']).values"
   ]
  },
  {
   "cell_type": "code",
   "execution_count": 71,
   "id": "d6cb2722",
   "metadata": {},
   "outputs": [],
   "source": [
    "#IMPLEMENTING MACHINE LEARNING ALGORITHMS"
   ]
  },
  {
   "cell_type": "code",
   "execution_count": 72,
   "id": "c231cf0d",
   "metadata": {},
   "outputs": [],
   "source": [
    "import sklearn\n",
    "from sklearn.model_selection import train_test_split\n",
    "from sklearn.linear_model import LinearRegression\n",
    "from sklearn.impute import SimpleImputer\n",
    "from sklearn.preprocessing import StandardScaler\n",
    "from sklearn.metrics import r2_score,accuracy_score\n",
    "from sklearn.metrics import mean_squared_error"
   ]
  },
  {
   "cell_type": "code",
   "execution_count": 73,
   "id": "def08cf3",
   "metadata": {},
   "outputs": [
    {
     "data": {
      "text/plain": [
       "LinearRegression()"
      ]
     },
     "execution_count": 73,
     "metadata": {},
     "output_type": "execute_result"
    },
    {
     "data": {
      "text/plain": [
       "LinearRegression()"
      ]
     },
     "execution_count": 73,
     "metadata": {},
     "output_type": "execute_result"
    }
   ],
   "source": [
    "regressor = LinearRegression(fit_intercept=True)\n",
    "regressor"
   ]
  },
  {
   "cell_type": "code",
   "execution_count": 316,
   "id": "f6efb744",
   "metadata": {},
   "outputs": [],
   "source": [
    "X_train,X_test,y_train,y_test = train_test_split(X,y,test_size=0.2,random_state=0)"
   ]
  },
  {
   "cell_type": "code",
   "execution_count": 317,
   "id": "1f063847",
   "metadata": {},
   "outputs": [],
   "source": [
    "numeric =['Location','Maker','Model','Year','Colour','Type','Distance']"
   ]
  },
  {
   "cell_type": "code",
   "execution_count": null,
   "id": "16d57185",
   "metadata": {},
   "outputs": [],
   "source": [
    "sc = StandardScaler()\n",
    "X_train = sc.fit_transform(X_train)\n",
    "X_test  =  sc.fit_transform(X_test)"
   ]
  },
  {
   "cell_type": "code",
   "execution_count": 307,
   "id": "675abb0f",
   "metadata": {},
   "outputs": [
    {
     "data": {
      "text/plain": [
       "LinearRegression()"
      ]
     },
     "execution_count": 307,
     "metadata": {},
     "output_type": "execute_result"
    }
   ],
   "source": [
    "regressor.fit(X_train,y_train)"
   ]
  },
  {
   "cell_type": "code",
   "execution_count": 308,
   "id": "ca4d8d35",
   "metadata": {},
   "outputs": [
    {
     "data": {
      "text/plain": [
       "array([13.10098952, -5.00501873, 13.77540134, ..., 19.67786852,\n",
       "       16.52509036, -0.10740436])"
      ]
     },
     "execution_count": 308,
     "metadata": {},
     "output_type": "execute_result"
    }
   ],
   "source": [
    "y_pred= regressor.predict(X_test)\n",
    "y_pred"
   ]
  },
  {
   "cell_type": "code",
   "execution_count": 309,
   "id": "6d9712d4",
   "metadata": {},
   "outputs": [
    {
     "name": "stdout",
     "output_type": "stream",
     "text": [
      "Mean sqaured error is : 730.6869983052486\n",
      "Root mean squared error is: 27.03122265649944\n"
     ]
    }
   ],
   "source": [
    "mse= mean_squared_error(y_test,y_pred)\n",
    "rmse = mean_squared_error(y_test,y_pred,squared=False)\n",
    "\n",
    "print('Mean sqaured error is :',mse)\n",
    "print('Root mean squared error is:',rmse)"
   ]
  },
  {
   "cell_type": "code",
   "execution_count": 310,
   "id": "ce46ca79",
   "metadata": {},
   "outputs": [
    {
     "data": {
      "text/plain": [
       "0.14529979112010938"
      ]
     },
     "execution_count": 310,
     "metadata": {},
     "output_type": "execute_result"
    }
   ],
   "source": [
    "r2_score(y_test,y_pred)"
   ]
  },
  {
   "cell_type": "code",
   "execution_count": 311,
   "id": "5815fe38",
   "metadata": {},
   "outputs": [],
   "source": [
    "from sklearn.tree import DecisionTreeRegressor"
   ]
  },
  {
   "cell_type": "code",
   "execution_count": 318,
   "id": "c87c5f6b",
   "metadata": {},
   "outputs": [
    {
     "data": {
      "text/plain": [
       "DecisionTreeRegressor(random_state=100)"
      ]
     },
     "execution_count": 318,
     "metadata": {},
     "output_type": "execute_result"
    }
   ],
   "source": [
    "dt = DecisionTreeRegressor(criterion='mse',splitter='best',random_state=100)\n",
    "dt"
   ]
  },
  {
   "cell_type": "code",
   "execution_count": 319,
   "id": "84b657ee",
   "metadata": {},
   "outputs": [
    {
     "data": {
      "text/plain": [
       "DecisionTreeRegressor(random_state=100)"
      ]
     },
     "execution_count": 319,
     "metadata": {},
     "output_type": "execute_result"
    }
   ],
   "source": [
    "dt.fit(X_train,y_train)"
   ]
  },
  {
   "cell_type": "code",
   "execution_count": 320,
   "id": "c2ea468c",
   "metadata": {},
   "outputs": [
    {
     "data": {
      "text/plain": [
       "array([18.        ,  1.        , 12.        , ...,  6.        ,\n",
       "        6.85714286,  7.        ])"
      ]
     },
     "execution_count": 320,
     "metadata": {},
     "output_type": "execute_result"
    }
   ],
   "source": [
    "yhat = dt.predict(X_test)\n",
    "yhat"
   ]
  },
  {
   "cell_type": "code",
   "execution_count": 321,
   "id": "2a3b6cd0",
   "metadata": {},
   "outputs": [
    {
     "name": "stdout",
     "output_type": "stream",
     "text": [
      "0.6747160538326102\n"
     ]
    }
   ],
   "source": [
    "print(r2_score(y_test,yhat))\n"
   ]
  },
  {
   "cell_type": "code",
   "execution_count": 322,
   "id": "65a40eba",
   "metadata": {},
   "outputs": [
    {
     "name": "stdout",
     "output_type": "stream",
     "text": [
      "Mean sqaured error is : 278.08668788489433\n",
      "Root mean squared error is: 16.675931394824527\n"
     ]
    }
   ],
   "source": [
    "mse= mean_squared_error(y_test,yhat)\n",
    "rmse = mean_squared_error(y_test,yhat,squared=False)\n",
    "\n",
    "print('Mean sqaured error is :',mse)\n",
    "print('Root mean squared error is:',rmse)"
   ]
  },
  {
   "cell_type": "code",
   "execution_count": 323,
   "id": "1c3f4bed",
   "metadata": {},
   "outputs": [],
   "source": [
    "from sklearn.ensemble import RandomForestRegressor"
   ]
  },
  {
   "cell_type": "code",
   "execution_count": 324,
   "id": "4b8b598f",
   "metadata": {},
   "outputs": [
    {
     "data": {
      "text/plain": [
       "RandomForestRegressor(max_features='sqrt', min_impurity_decrease=0.5,\n",
       "                      n_estimators=1000, n_jobs=3, oob_score=3, random_state=0)"
      ]
     },
     "execution_count": 324,
     "metadata": {},
     "output_type": "execute_result"
    }
   ],
   "source": [
    "random_ = RandomForestRegressor(random_state=0,n_estimators=1000,\n",
    "                                criterion='mse',max_features='sqrt',\n",
    "                                oob_score=3,n_jobs=3,min_impurity_decrease=0.5)\n",
    "random_"
   ]
  },
  {
   "cell_type": "code",
   "execution_count": 325,
   "id": "0b4848f6",
   "metadata": {},
   "outputs": [
    {
     "data": {
      "text/plain": [
       "RandomForestRegressor(max_features='sqrt', min_impurity_decrease=0.5,\n",
       "                      n_estimators=1000, n_jobs=3, oob_score=3, random_state=0)"
      ]
     },
     "execution_count": 325,
     "metadata": {},
     "output_type": "execute_result"
    }
   ],
   "source": [
    "random_.fit(X_train,y_train)"
   ]
  },
  {
   "cell_type": "code",
   "execution_count": 326,
   "id": "b24273bb",
   "metadata": {},
   "outputs": [
    {
     "data": {
      "text/plain": [
       "array([11.19355652,  4.39516   , 10.44939393, ...,  6.65861388,\n",
       "       12.14728568,  8.93373549])"
      ]
     },
     "execution_count": 326,
     "metadata": {},
     "output_type": "execute_result"
    }
   ],
   "source": [
    "yrand = random_.predict(X_test)\n",
    "yrand"
   ]
  },
  {
   "cell_type": "code",
   "execution_count": 327,
   "id": "57e48c0b",
   "metadata": {},
   "outputs": [
    {
     "name": "stdout",
     "output_type": "stream",
     "text": [
      "Mean sqaured error is : 227.49585950901616\n",
      "Root mean squared error is: 15.082965872434245\n"
     ]
    }
   ],
   "source": [
    "mse= mean_squared_error(y_test,yrand)\n",
    "rmse = mean_squared_error(y_test,yrand,squared=False)\n",
    "\n",
    "print('Mean sqaured error is :',mse)\n",
    "print('Root mean squared error is:',rmse)"
   ]
  },
  {
   "cell_type": "code",
   "execution_count": 328,
   "id": "e445467b",
   "metadata": {},
   "outputs": [
    {
     "name": "stdout",
     "output_type": "stream",
     "text": [
      "The regression score is: 73.38932277532635\n"
     ]
    }
   ],
   "source": [
    "print('The regression score is:',r2_score(y_test,yrand)*100)"
   ]
  },
  {
   "cell_type": "code",
   "execution_count": 329,
   "id": "8c2c866c",
   "metadata": {},
   "outputs": [
    {
     "data": {
      "text/plain": [
       "XGBRegressor(base_score=None, booster=None, callbacks=None,\n",
       "             colsample_bylevel=None, colsample_bynode=None,\n",
       "             colsample_bytree=None, early_stopping_rounds=None,\n",
       "             enable_categorical=False, eval_metric=None, gamma=None,\n",
       "             gpu_id=None, grow_policy=None, importance_type=None,\n",
       "             interaction_constraints=None, learning_rate=None, max_bin=None,\n",
       "             max_cat_to_onehot=None, max_delta_step=None, max_depth=None,\n",
       "             max_leaves=None, min_child_weight=None, missing=nan,\n",
       "             monotone_constraints=None, n_estimators=100, n_jobs=None,\n",
       "             num_parallel_tree=None, predictor=None, random_state=None,\n",
       "             reg_alpha=None, reg_lambda=None, ...)"
      ]
     },
     "execution_count": 329,
     "metadata": {},
     "output_type": "execute_result"
    }
   ],
   "source": [
    "from xgboost import XGBRegressor\n",
    "model = XGBRegressor()\n",
    "model"
   ]
  },
  {
   "cell_type": "code",
   "execution_count": 330,
   "id": "b41aa098",
   "metadata": {},
   "outputs": [
    {
     "data": {
      "text/plain": [
       "XGBRegressor(base_score=0.5, booster='gbtree', callbacks=None,\n",
       "             colsample_bylevel=1, colsample_bynode=1, colsample_bytree=1,\n",
       "             early_stopping_rounds=None, enable_categorical=False,\n",
       "             eval_metric=None, gamma=0, gpu_id=-1, grow_policy='depthwise',\n",
       "             importance_type=None, interaction_constraints='',\n",
       "             learning_rate=0.300000012, max_bin=256, max_cat_to_onehot=4,\n",
       "             max_delta_step=0, max_depth=6, max_leaves=0, min_child_weight=1,\n",
       "             missing=nan, monotone_constraints='()', n_estimators=100, n_jobs=0,\n",
       "             num_parallel_tree=1, predictor='auto', random_state=0, reg_alpha=0,\n",
       "             reg_lambda=1, ...)"
      ]
     },
     "execution_count": 330,
     "metadata": {},
     "output_type": "execute_result"
    }
   ],
   "source": [
    "model.fit(X_train,y_train)"
   ]
  },
  {
   "cell_type": "code",
   "execution_count": 331,
   "id": "15081668",
   "metadata": {},
   "outputs": [
    {
     "data": {
      "text/plain": [
       "array([ 4.8111634,  6.6027274,  7.130639 , ...,  2.9357855,  2.2228534,\n",
       "       21.364975 ], dtype=float32)"
      ]
     },
     "execution_count": 331,
     "metadata": {},
     "output_type": "execute_result"
    }
   ],
   "source": [
    "model.predict(X_train)"
   ]
  },
  {
   "cell_type": "code",
   "execution_count": 332,
   "id": "fa71096f",
   "metadata": {},
   "outputs": [
    {
     "data": {
      "text/plain": [
       "array([16.68499   ,  0.33159596,  5.8577    , ...,  7.921585  ,\n",
       "        9.876852  ,  4.677328  ], dtype=float32)"
      ]
     },
     "execution_count": 332,
     "metadata": {},
     "output_type": "execute_result"
    }
   ],
   "source": [
    "model.predict(X_test)"
   ]
  },
  {
   "cell_type": "code",
   "execution_count": 333,
   "id": "4563277e",
   "metadata": {},
   "outputs": [
    {
     "data": {
      "text/plain": [
       "0.9720890189443567"
      ]
     },
     "execution_count": 333,
     "metadata": {},
     "output_type": "execute_result"
    }
   ],
   "source": [
    "r2_score(y_train,model.predict(X_train))"
   ]
  },
  {
   "cell_type": "code",
   "execution_count": 334,
   "id": "cbdf1ccc",
   "metadata": {},
   "outputs": [
    {
     "data": {
      "text/plain": [
       "0.7594578160756187"
      ]
     },
     "execution_count": 334,
     "metadata": {},
     "output_type": "execute_result"
    }
   ],
   "source": [
    "r2_score(y_test,model.predict(X_test))"
   ]
  },
  {
   "cell_type": "code",
   "execution_count": 335,
   "id": "20df0346",
   "metadata": {},
   "outputs": [
    {
     "data": {
      "text/plain": [
       "GradientBoostingRegressor()"
      ]
     },
     "execution_count": 335,
     "metadata": {},
     "output_type": "execute_result"
    }
   ],
   "source": [
    "from sklearn.ensemble import GradientBoostingRegressor\n",
    "grad = GradientBoostingRegressor()\n",
    "grad"
   ]
  },
  {
   "cell_type": "code",
   "execution_count": 336,
   "id": "578767fa",
   "metadata": {},
   "outputs": [
    {
     "data": {
      "text/plain": [
       "GradientBoostingRegressor()"
      ]
     },
     "execution_count": 336,
     "metadata": {},
     "output_type": "execute_result"
    }
   ],
   "source": [
    "grad.fit(X_train,y_train)"
   ]
  },
  {
   "cell_type": "code",
   "execution_count": 337,
   "id": "141987a9",
   "metadata": {},
   "outputs": [
    {
     "data": {
      "text/plain": [
       "array([12.57917083,  1.00621373,  9.44479472, ...,  5.39068178,\n",
       "       11.52002063,  9.40458943])"
      ]
     },
     "execution_count": 337,
     "metadata": {},
     "output_type": "execute_result"
    }
   ],
   "source": [
    "grad.predict(X_test)"
   ]
  },
  {
   "cell_type": "code",
   "execution_count": 338,
   "id": "a1b29c8d",
   "metadata": {},
   "outputs": [
    {
     "data": {
      "text/plain": [
       "array([ 2.98394547,  8.43970524, 11.70482037, ...,  2.57928629,\n",
       "        6.94944506,  9.44035189])"
      ]
     },
     "execution_count": 338,
     "metadata": {},
     "output_type": "execute_result"
    }
   ],
   "source": [
    "grad.predict(X_train)"
   ]
  },
  {
   "cell_type": "code",
   "execution_count": 339,
   "id": "f8c5802a",
   "metadata": {},
   "outputs": [
    {
     "data": {
      "text/plain": [
       "0.8040876976899487"
      ]
     },
     "execution_count": 339,
     "metadata": {},
     "output_type": "execute_result"
    }
   ],
   "source": [
    "r2_score(y_test,grad.predict(X_test))"
   ]
  },
  {
   "cell_type": "code",
   "execution_count": 340,
   "id": "614c5a51",
   "metadata": {},
   "outputs": [
    {
     "data": {
      "text/plain": [
       "0.7979811537896948"
      ]
     },
     "execution_count": 340,
     "metadata": {},
     "output_type": "execute_result"
    }
   ],
   "source": [
    "r2_score(y_train,grad.predict(X_train))"
   ]
  },
  {
   "cell_type": "raw",
   "id": "af4ec48f",
   "metadata": {},
   "source": []
  },
  {
   "cell_type": "code",
   "execution_count": 341,
   "id": "a8055c8d",
   "metadata": {},
   "outputs": [],
   "source": [
    "test_pred = grad.predict(test)"
   ]
  },
  {
   "cell_type": "code",
   "execution_count": 342,
   "id": "ca846c41",
   "metadata": {},
   "outputs": [
    {
     "data": {
      "text/plain": [
       "array([14.27448227,  4.88754113,  5.01743772, ...,  4.37570954,\n",
       "        5.84592661, 10.96319213])"
      ]
     },
     "execution_count": 342,
     "metadata": {},
     "output_type": "execute_result"
    }
   ],
   "source": [
    "test_pred"
   ]
  },
  {
   "cell_type": "code",
   "execution_count": null,
   "id": "df8641e0",
   "metadata": {},
   "outputs": [],
   "source": []
  },
  {
   "cell_type": "code",
   "execution_count": 343,
   "id": "3a356a10",
   "metadata": {},
   "outputs": [],
   "source": [
    "sub = pd.read_csv(r'C:\\\\Users\\\\MY PC\\\\Downloads\\\\SampleSubmission.csv')"
   ]
  },
  {
   "cell_type": "code",
   "execution_count": 344,
   "id": "77eed8d5",
   "metadata": {},
   "outputs": [
    {
     "data": {
      "text/html": [
       "<div>\n",
       "<style scoped>\n",
       "    .dataframe tbody tr th:only-of-type {\n",
       "        vertical-align: middle;\n",
       "    }\n",
       "\n",
       "    .dataframe tbody tr th {\n",
       "        vertical-align: top;\n",
       "    }\n",
       "\n",
       "    .dataframe thead th {\n",
       "        text-align: right;\n",
       "    }\n",
       "</style>\n",
       "<table border=\"1\" class=\"dataframe\">\n",
       "  <thead>\n",
       "    <tr style=\"text-align: right;\">\n",
       "      <th></th>\n",
       "      <th>VehicleID</th>\n",
       "      <th>Amount (Million Naira)</th>\n",
       "    </tr>\n",
       "  </thead>\n",
       "  <tbody>\n",
       "    <tr>\n",
       "      <th>0</th>\n",
       "      <td>VHL18518</td>\n",
       "      <td>1.0</td>\n",
       "    </tr>\n",
       "    <tr>\n",
       "      <th>1</th>\n",
       "      <td>VHL17149</td>\n",
       "      <td>1.0</td>\n",
       "    </tr>\n",
       "    <tr>\n",
       "      <th>2</th>\n",
       "      <td>VHL10927</td>\n",
       "      <td>1.0</td>\n",
       "    </tr>\n",
       "    <tr>\n",
       "      <th>3</th>\n",
       "      <td>VHL12909</td>\n",
       "      <td>1.0</td>\n",
       "    </tr>\n",
       "    <tr>\n",
       "      <th>4</th>\n",
       "      <td>VHL12348</td>\n",
       "      <td>1.0</td>\n",
       "    </tr>\n",
       "  </tbody>\n",
       "</table>\n",
       "</div>"
      ],
      "text/plain": [
       "  VehicleID  Amount (Million Naira)\n",
       "0  VHL18518                     1.0\n",
       "1  VHL17149                     1.0\n",
       "2  VHL10927                     1.0\n",
       "3  VHL12909                     1.0\n",
       "4  VHL12348                     1.0"
      ]
     },
     "execution_count": 344,
     "metadata": {},
     "output_type": "execute_result"
    }
   ],
   "source": [
    "sub.head()"
   ]
  },
  {
   "cell_type": "code",
   "execution_count": 345,
   "id": "47236409",
   "metadata": {},
   "outputs": [
    {
     "data": {
      "text/html": [
       "<div>\n",
       "<style scoped>\n",
       "    .dataframe tbody tr th:only-of-type {\n",
       "        vertical-align: middle;\n",
       "    }\n",
       "\n",
       "    .dataframe tbody tr th {\n",
       "        vertical-align: top;\n",
       "    }\n",
       "\n",
       "    .dataframe thead th {\n",
       "        text-align: right;\n",
       "    }\n",
       "</style>\n",
       "<table border=\"1\" class=\"dataframe\">\n",
       "  <thead>\n",
       "    <tr style=\"text-align: right;\">\n",
       "      <th></th>\n",
       "      <th>VehicleID</th>\n",
       "      <th>Amount (Million Naira)</th>\n",
       "    </tr>\n",
       "  </thead>\n",
       "  <tbody>\n",
       "    <tr>\n",
       "      <th>0</th>\n",
       "      <td>VHL18518</td>\n",
       "      <td>14.274482</td>\n",
       "    </tr>\n",
       "    <tr>\n",
       "      <th>1</th>\n",
       "      <td>VHL17149</td>\n",
       "      <td>4.887541</td>\n",
       "    </tr>\n",
       "    <tr>\n",
       "      <th>2</th>\n",
       "      <td>VHL10927</td>\n",
       "      <td>5.017438</td>\n",
       "    </tr>\n",
       "    <tr>\n",
       "      <th>3</th>\n",
       "      <td>VHL12909</td>\n",
       "      <td>4.428966</td>\n",
       "    </tr>\n",
       "    <tr>\n",
       "      <th>4</th>\n",
       "      <td>VHL12348</td>\n",
       "      <td>3.265652</td>\n",
       "    </tr>\n",
       "    <tr>\n",
       "      <th>5</th>\n",
       "      <td>VHL10798</td>\n",
       "      <td>5.241426</td>\n",
       "    </tr>\n",
       "    <tr>\n",
       "      <th>6</th>\n",
       "      <td>VHL11022</td>\n",
       "      <td>34.102335</td>\n",
       "    </tr>\n",
       "    <tr>\n",
       "      <th>7</th>\n",
       "      <td>VHL12206</td>\n",
       "      <td>3.529863</td>\n",
       "    </tr>\n",
       "    <tr>\n",
       "      <th>8</th>\n",
       "      <td>VHL11697</td>\n",
       "      <td>8.465324</td>\n",
       "    </tr>\n",
       "    <tr>\n",
       "      <th>9</th>\n",
       "      <td>VHL12313</td>\n",
       "      <td>5.017438</td>\n",
       "    </tr>\n",
       "    <tr>\n",
       "      <th>10</th>\n",
       "      <td>VHL13411</td>\n",
       "      <td>4.609980</td>\n",
       "    </tr>\n",
       "    <tr>\n",
       "      <th>11</th>\n",
       "      <td>VHL14334</td>\n",
       "      <td>-0.115762</td>\n",
       "    </tr>\n",
       "    <tr>\n",
       "      <th>12</th>\n",
       "      <td>VHL14302</td>\n",
       "      <td>5.226354</td>\n",
       "    </tr>\n",
       "    <tr>\n",
       "      <th>13</th>\n",
       "      <td>VHL13979</td>\n",
       "      <td>6.441543</td>\n",
       "    </tr>\n",
       "    <tr>\n",
       "      <th>14</th>\n",
       "      <td>VHL12272</td>\n",
       "      <td>1.337717</td>\n",
       "    </tr>\n",
       "    <tr>\n",
       "      <th>15</th>\n",
       "      <td>VHL15071</td>\n",
       "      <td>9.352402</td>\n",
       "    </tr>\n",
       "    <tr>\n",
       "      <th>16</th>\n",
       "      <td>VHL19166</td>\n",
       "      <td>3.067029</td>\n",
       "    </tr>\n",
       "    <tr>\n",
       "      <th>17</th>\n",
       "      <td>VHL10471</td>\n",
       "      <td>5.092040</td>\n",
       "    </tr>\n",
       "    <tr>\n",
       "      <th>18</th>\n",
       "      <td>VHL18431</td>\n",
       "      <td>9.432494</td>\n",
       "    </tr>\n",
       "    <tr>\n",
       "      <th>19</th>\n",
       "      <td>VHL12325</td>\n",
       "      <td>7.663093</td>\n",
       "    </tr>\n",
       "    <tr>\n",
       "      <th>20</th>\n",
       "      <td>VHL15657</td>\n",
       "      <td>9.101408</td>\n",
       "    </tr>\n",
       "    <tr>\n",
       "      <th>21</th>\n",
       "      <td>VHL13667</td>\n",
       "      <td>3.435455</td>\n",
       "    </tr>\n",
       "    <tr>\n",
       "      <th>22</th>\n",
       "      <td>VHL18913</td>\n",
       "      <td>4.330182</td>\n",
       "    </tr>\n",
       "    <tr>\n",
       "      <th>23</th>\n",
       "      <td>VHL13273</td>\n",
       "      <td>3.230876</td>\n",
       "    </tr>\n",
       "    <tr>\n",
       "      <th>24</th>\n",
       "      <td>VHL16576</td>\n",
       "      <td>1.179512</td>\n",
       "    </tr>\n",
       "    <tr>\n",
       "      <th>25</th>\n",
       "      <td>VHL15506</td>\n",
       "      <td>3.998572</td>\n",
       "    </tr>\n",
       "    <tr>\n",
       "      <th>26</th>\n",
       "      <td>VHL10460</td>\n",
       "      <td>47.118700</td>\n",
       "    </tr>\n",
       "    <tr>\n",
       "      <th>27</th>\n",
       "      <td>VHL16050</td>\n",
       "      <td>2.880153</td>\n",
       "    </tr>\n",
       "    <tr>\n",
       "      <th>28</th>\n",
       "      <td>VHL17918</td>\n",
       "      <td>5.864536</td>\n",
       "    </tr>\n",
       "    <tr>\n",
       "      <th>29</th>\n",
       "      <td>VHL12992</td>\n",
       "      <td>6.780356</td>\n",
       "    </tr>\n",
       "    <tr>\n",
       "      <th>30</th>\n",
       "      <td>VHL10261</td>\n",
       "      <td>3.655500</td>\n",
       "    </tr>\n",
       "    <tr>\n",
       "      <th>31</th>\n",
       "      <td>VHL18348</td>\n",
       "      <td>5.580239</td>\n",
       "    </tr>\n",
       "    <tr>\n",
       "      <th>32</th>\n",
       "      <td>VHL11577</td>\n",
       "      <td>3.998572</td>\n",
       "    </tr>\n",
       "    <tr>\n",
       "      <th>33</th>\n",
       "      <td>VHL16957</td>\n",
       "      <td>0.062456</td>\n",
       "    </tr>\n",
       "    <tr>\n",
       "      <th>34</th>\n",
       "      <td>VHL16165</td>\n",
       "      <td>9.222506</td>\n",
       "    </tr>\n",
       "    <tr>\n",
       "      <th>35</th>\n",
       "      <td>VHL11441</td>\n",
       "      <td>3.067029</td>\n",
       "    </tr>\n",
       "    <tr>\n",
       "      <th>36</th>\n",
       "      <td>VHL19990</td>\n",
       "      <td>-0.016030</td>\n",
       "    </tr>\n",
       "    <tr>\n",
       "      <th>37</th>\n",
       "      <td>VHL14072</td>\n",
       "      <td>5.412706</td>\n",
       "    </tr>\n",
       "    <tr>\n",
       "      <th>38</th>\n",
       "      <td>VHL13637</td>\n",
       "      <td>6.724535</td>\n",
       "    </tr>\n",
       "    <tr>\n",
       "      <th>39</th>\n",
       "      <td>VHL10757</td>\n",
       "      <td>-0.103771</td>\n",
       "    </tr>\n",
       "    <tr>\n",
       "      <th>40</th>\n",
       "      <td>VHL12657</td>\n",
       "      <td>3.201184</td>\n",
       "    </tr>\n",
       "    <tr>\n",
       "      <th>41</th>\n",
       "      <td>VHL19939</td>\n",
       "      <td>3.659759</td>\n",
       "    </tr>\n",
       "    <tr>\n",
       "      <th>42</th>\n",
       "      <td>VHL12094</td>\n",
       "      <td>3.395548</td>\n",
       "    </tr>\n",
       "    <tr>\n",
       "      <th>43</th>\n",
       "      <td>VHL17177</td>\n",
       "      <td>1.352247</td>\n",
       "    </tr>\n",
       "    <tr>\n",
       "      <th>44</th>\n",
       "      <td>VHL16720</td>\n",
       "      <td>3.529863</td>\n",
       "    </tr>\n",
       "    <tr>\n",
       "      <th>45</th>\n",
       "      <td>VHL11478</td>\n",
       "      <td>3.998572</td>\n",
       "    </tr>\n",
       "    <tr>\n",
       "      <th>46</th>\n",
       "      <td>VHL14386</td>\n",
       "      <td>3.998572</td>\n",
       "    </tr>\n",
       "    <tr>\n",
       "      <th>47</th>\n",
       "      <td>VHL11341</td>\n",
       "      <td>5.226354</td>\n",
       "    </tr>\n",
       "    <tr>\n",
       "      <th>48</th>\n",
       "      <td>VHL18683</td>\n",
       "      <td>6.310818</td>\n",
       "    </tr>\n",
       "    <tr>\n",
       "      <th>49</th>\n",
       "      <td>VHL13430</td>\n",
       "      <td>23.918157</td>\n",
       "    </tr>\n",
       "  </tbody>\n",
       "</table>\n",
       "</div>"
      ],
      "text/plain": [
       "   VehicleID  Amount (Million Naira)\n",
       "0   VHL18518               14.274482\n",
       "1   VHL17149                4.887541\n",
       "2   VHL10927                5.017438\n",
       "3   VHL12909                4.428966\n",
       "4   VHL12348                3.265652\n",
       "5   VHL10798                5.241426\n",
       "6   VHL11022               34.102335\n",
       "7   VHL12206                3.529863\n",
       "8   VHL11697                8.465324\n",
       "9   VHL12313                5.017438\n",
       "10  VHL13411                4.609980\n",
       "11  VHL14334               -0.115762\n",
       "12  VHL14302                5.226354\n",
       "13  VHL13979                6.441543\n",
       "14  VHL12272                1.337717\n",
       "15  VHL15071                9.352402\n",
       "16  VHL19166                3.067029\n",
       "17  VHL10471                5.092040\n",
       "18  VHL18431                9.432494\n",
       "19  VHL12325                7.663093\n",
       "20  VHL15657                9.101408\n",
       "21  VHL13667                3.435455\n",
       "22  VHL18913                4.330182\n",
       "23  VHL13273                3.230876\n",
       "24  VHL16576                1.179512\n",
       "25  VHL15506                3.998572\n",
       "26  VHL10460               47.118700\n",
       "27  VHL16050                2.880153\n",
       "28  VHL17918                5.864536\n",
       "29  VHL12992                6.780356\n",
       "30  VHL10261                3.655500\n",
       "31  VHL18348                5.580239\n",
       "32  VHL11577                3.998572\n",
       "33  VHL16957                0.062456\n",
       "34  VHL16165                9.222506\n",
       "35  VHL11441                3.067029\n",
       "36  VHL19990               -0.016030\n",
       "37  VHL14072                5.412706\n",
       "38  VHL13637                6.724535\n",
       "39  VHL10757               -0.103771\n",
       "40  VHL12657                3.201184\n",
       "41  VHL19939                3.659759\n",
       "42  VHL12094                3.395548\n",
       "43  VHL17177                1.352247\n",
       "44  VHL16720                3.529863\n",
       "45  VHL11478                3.998572\n",
       "46  VHL14386                3.998572\n",
       "47  VHL11341                5.226354\n",
       "48  VHL18683                6.310818\n",
       "49  VHL13430               23.918157"
      ]
     },
     "execution_count": 345,
     "metadata": {},
     "output_type": "execute_result"
    }
   ],
   "source": [
    "sub['Amount (Million Naira)'] = test_pred\n",
    "sub.head(50)"
   ]
  },
  {
   "cell_type": "code",
   "execution_count": 306,
   "id": "a705d8dd",
   "metadata": {},
   "outputs": [
    {
     "data": {
      "image/png": "[encoded data removed]",
      "text/plain": [
       "<Figure size 720x432 with 1 Axes>"
      ]
     },
     "metadata": {},
     "output_type": "display_data"
    }
   ],
   "source": [
    "plt.figure(figsize=(10,6))\n",
    "sub['Amount (Million Naira)'].plot(kind='box',color='red');"
   ]
  },
  {
   "cell_type": "code",
   "execution_count": 99,
   "id": "bfebd64d",
   "metadata": {},
   "outputs": [],
   "source": [
    "sub.to_csv(r'C:\\\\Users\\\\MY PC\\\\Downloads\\\\DANIEL.csv',index=False)"
   ]
  },
  {
   "cell_type": "code",
   "execution_count": 100,
   "id": "cd6c222f",
   "metadata": {},
   "outputs": [],
   "source": [
    "impute =  SimpleImputer()"
   ]
  }
 ],
 "metadata": {
  "kernelspec": {
   "display_name": "Python 3 (ipykernel)",
   "language": "python",
   "name": "python3"
  },
  "language_info": {
   "codemirror_mode": {
    "name": "ipython",
    "version": 3
   },
   "file_extension": ".py",
   "mimetype": "text/x-python",
   "name": "python",
   "nbconvert_exporter": "python",
   "pygments_lexer": "ipython3",
   "version": "3.9.7"
  }
 },
 "nbformat": 4,
 "nbformat_minor": 5
}
